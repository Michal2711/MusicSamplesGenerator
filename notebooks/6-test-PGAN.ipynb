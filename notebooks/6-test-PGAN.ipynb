{
 "cells": [
  {
   "cell_type": "code",
   "execution_count": 48,
   "metadata": {},
   "outputs": [
    {
     "name": "stdout",
     "output_type": "stream",
     "text": [
      "The autoreload extension is already loaded. To reload it, use:\n",
      "  %reload_ext autoreload\n"
     ]
    }
   ],
   "source": [
    "%load_ext autoreload\n",
    "%autoreload 2"
   ]
  },
  {
   "cell_type": "code",
   "execution_count": 49,
   "metadata": {},
   "outputs": [],
   "source": [
    "import sys\n",
    "sys.path.append('../src')\n",
    "from data.audio_dataset import AudioSpectrogramDataset\n",
    "from models.PGAN_model.PGAN import PGAN\n",
    "from models.PGAN_model.config import *\n",
    "\n",
    "import torch\n",
    "import librosa\n",
    "import soundfile as sf\n",
    "from torch.utils.data import DataLoader"
   ]
  },
  {
   "cell_type": "code",
   "execution_count": 50,
   "metadata": {},
   "outputs": [],
   "source": [
    "dataset = AudioSpectrogramDataset(base_directory=base_directory, spectro_type='mel')\n",
    "dataloader = DataLoader(dataset, batch_size=batch_size, shuffle=True, num_workers=2)"
   ]
  },
  {
   "cell_type": "code",
   "execution_count": 8,
   "metadata": {},
   "outputs": [
    {
     "name": "stdout",
     "output_type": "stream",
     "text": [
      "Random Seed:  999\n"
     ]
    }
   ],
   "source": [
    "# import torchvision.datasets as dset\n",
    "# import torchvision.transforms as transforms\n",
    "# import random\n",
    "\n",
    "# manualSeed = 999\n",
    "# #manualSeed = random.randint(1, 10000) # use if you want new results\n",
    "# print(\"Random Seed: \", manualSeed)\n",
    "# random.seed(manualSeed)\n",
    "# torch.manual_seed(manualSeed)\n",
    "# # torch.use_deterministic_algorithms(True) # Needed for reproducible results\n",
    "\n",
    "# image_size = 64\n",
    "# # learning_rate = 0.0002\n",
    "# # learning_rate = 0.00005\n",
    "\n",
    "# dataroot = \"../data/raw/celeba3/\"\n",
    "\n",
    "# dataset = dset.ImageFolder(root=dataroot,\n",
    "#                            transform=transforms.Compose([\n",
    "#                                transforms.Resize(image_size),\n",
    "#                                transforms.CenterCrop(image_size),\n",
    "#                                transforms.ToTensor(),\n",
    "#                                transforms.Normalize((0.5, 0.5, 0.5), (0.5, 0.5, 0.5)),\n",
    "#                            ]))\n",
    "\n",
    "# dataloader = torch.utils.data.DataLoader(dataset, batch_size=batch_size,\n",
    "#                                          shuffle=True, num_workers=2)"
   ]
  },
  {
   "cell_type": "code",
   "execution_count": 9,
   "metadata": {},
   "outputs": [],
   "source": [
    "# import matplotlib.pyplot as plt\n",
    "# import numpy as np\n",
    "# import torchvision.utils as vutils"
   ]
  },
  {
   "cell_type": "code",
   "execution_count": null,
   "metadata": {},
   "outputs": [],
   "source": [
    "# device = torch.device(\"cuda:0\" if (torch.cuda.is_available()) else \"cpu\")\n",
    "\n",
    "# # Plot some training images\n",
    "# real_batch = next(iter(dataloader))\n",
    "# plt.figure(figsize=(8,8))\n",
    "# plt.axis(\"off\")\n",
    "# plt.title(\"Training Images\")\n",
    "# plt.imshow(np.transpose(vutils.make_grid(real_batch[0].to(device)[:64], padding=2, normalize=True).cpu(),(1,2,0)))"
   ]
  },
  {
   "cell_type": "code",
   "execution_count": 51,
   "metadata": {},
   "outputs": [],
   "source": [
    "Music_PGAN = PGAN(\n",
    "    latent_dim=latent_dim,\n",
    "    output_dim=output_dim,\n",
    "    lr=learning_rate,\n",
    "    loss=loss,\n",
    "    batch_size=batch_size,\n",
    "    gpu=gpu,\n",
    "    depths=depths, \n",
    "    negative_slope=negative_slope,\n",
    "    fade_in_percentage=fade_in_percentage,\n",
    "    save_interval=save_interval,\n",
    "    normalization=normalization,\n",
    "    mini_batch_normalization=mini_batch_normalization,\n",
    "    gen_type=get_type,\n",
    "    init_resolution_size=init_resolution_size,\n",
    "    num_epochs_per_resolution=num_epochs_per_resolution,\n",
    "    gen_output_dim=gen_output_dim,\n",
    ")"
   ]
  },
  {
   "cell_type": "code",
   "execution_count": 52,
   "metadata": {},
   "outputs": [
    {
     "name": "stdout",
     "output_type": "stream",
     "text": [
      "Resolution 0 - Epoch 1/10 - D Loss: 1.378824234008789 - G Loss: 3.064020872116089\n",
      "Resolution 0 - Epoch 2/10 - D Loss: 2.9911999702453613 - G Loss: 1.1920928244535389e-07\n",
      "Resolution 0 - Epoch 3/10 - D Loss: 12.239285469055176 - G Loss: 29.749305725097656\n",
      "Resolution 0 - Epoch 4/10 - D Loss: 29.47641372680664 - G Loss: 0.022487521171569824\n",
      "Resolution 0 - Epoch 5/10 - D Loss: 0.05584234371781349 - G Loss: 0.01934635452926159\n",
      "Resolution 0 - Epoch 6/10 - D Loss: 0.010836746543645859 - G Loss: 0.018720725551247597\n",
      "Resolution 0 - Epoch 7/10 - D Loss: 0.00617188960313797 - G Loss: 0.0047410218976438046\n",
      "Resolution 0 - Epoch 8/10 - D Loss: 0.1387471854686737 - G Loss: 0.0\n",
      "Resolution 0 - Epoch 9/10 - D Loss: 0.058173369616270065 - G Loss: 0.0\n",
      "Resolution 0 - Epoch 10/10 - D Loss: 0.000488094927277416 - G Loss: 0.0\n",
      "Resolution 1 - Epoch 1/10 - D Loss: 0.013971136882901192 - G Loss: 0.0\n",
      "Resolution 1 - Epoch 2/10 - D Loss: 13.414758682250977 - G Loss: 3.3689191341400146\n",
      "Resolution 1 - Epoch 3/10 - D Loss: 0.002057936741039157 - G Loss: 7.152555099310121e-07\n",
      "Resolution 1 - Epoch 4/10 - D Loss: 0.0006569849792867899 - G Loss: 1.1920922133867862e-06\n",
      "Resolution 1 - Epoch 5/10 - D Loss: 0.0005009111482650042 - G Loss: 0.0\n",
      "Resolution 1 - Epoch 6/10 - D Loss: 0.0 - G Loss: 0.0\n",
      "Resolution 1 - Epoch 7/10 - D Loss: 2.3841855067985307e-07 - G Loss: 0.0\n",
      "Resolution 1 - Epoch 8/10 - D Loss: 0.0 - G Loss: 1.1920928244535389e-07\n",
      "Resolution 1 - Epoch 9/10 - D Loss: 1.1920928244535389e-07 - G Loss: 0.0\n",
      "Resolution 1 - Epoch 10/10 - D Loss: 0.0 - G Loss: 0.0\n",
      "Resolution 2 - Epoch 1/10 - D Loss: 3.218646270397585e-06 - G Loss: 0.0\n",
      "Resolution 2 - Epoch 2/10 - D Loss: 96.75382232666016 - G Loss: 1.3807413578033447\n",
      "Resolution 2 - Epoch 3/10 - D Loss: 0.10580388456583023 - G Loss: 1.1324817933200393e-05\n",
      "Resolution 2 - Epoch 4/10 - D Loss: 0.0077772908844053745 - G Loss: 0.003299033734947443\n",
      "Resolution 2 - Epoch 5/10 - D Loss: 0.0017156180692836642 - G Loss: 0.0019575259648263454\n",
      "Resolution 2 - Epoch 6/10 - D Loss: 0.008909590542316437 - G Loss: 5.960462772236497e-07\n",
      "Resolution 2 - Epoch 7/10 - D Loss: 0.0 - G Loss: 2.3841855067985307e-07\n",
      "Resolution 2 - Epoch 8/10 - D Loss: 3.1470757676288486e-05 - G Loss: 0.00012051333033014089\n",
      "Resolution 2 - Epoch 9/10 - D Loss: 2.3841855067985307e-07 - G Loss: 1.7881377516459906e-06\n",
      "Resolution 2 - Epoch 10/10 - D Loss: 4.768370445162873e-07 - G Loss: 2.3841855067985307e-07\n",
      "Resolution 3 - Epoch 1/10 - D Loss: 2.3841855067985307e-07 - G Loss: 0.0\n",
      "Resolution 3 - Epoch 2/10 - D Loss: 0.0 - G Loss: 0.0\n",
      "Resolution 3 - Epoch 3/10 - D Loss: 0.0 - G Loss: 0.0\n",
      "Resolution 3 - Epoch 4/10 - D Loss: 2.3841855067985307e-07 - G Loss: 7.624561309814453\n",
      "Resolution 3 - Epoch 5/10 - D Loss: 85.51314544677734 - G Loss: 1.6689286894688848e-06\n",
      "Resolution 3 - Epoch 6/10 - D Loss: 0.0 - G Loss: 7.4741430580616e-05\n",
      "Resolution 3 - Epoch 7/10 - D Loss: 1.1920928244535389e-07 - G Loss: 0.0\n",
      "Resolution 3 - Epoch 8/10 - D Loss: 1.1920928244535389e-07 - G Loss: 0.0\n",
      "Resolution 3 - Epoch 9/10 - D Loss: 0.0 - G Loss: 4.0531076592742465e-06\n",
      "Resolution 3 - Epoch 10/10 - D Loss: 0.0 - G Loss: 3.0278701160568744e-05\n",
      "Resolution 4 - Epoch 1/10 - D Loss: 0.0 - G Loss: 0.0\n",
      "Resolution 4 - Epoch 2/10 - D Loss: 0.0 - G Loss: 0.0\n",
      "Resolution 4 - Epoch 3/10 - D Loss: 0.0 - G Loss: 0.0\n",
      "Resolution 4 - Epoch 4/10 - D Loss: 0.0 - G Loss: 0.0\n",
      "Resolution 4 - Epoch 5/10 - D Loss: 0.3749525547027588 - G Loss: 0.0\n",
      "Resolution 4 - Epoch 6/10 - D Loss: 1003.5755004882812 - G Loss: 0.1008298248052597\n",
      "Resolution 4 - Epoch 7/10 - D Loss: 294.8092346191406 - G Loss: 0.0\n",
      "Resolution 4 - Epoch 8/10 - D Loss: 0.0 - G Loss: 0.0\n",
      "Resolution 4 - Epoch 9/10 - D Loss: 0.0 - G Loss: 0.0\n",
      "Resolution 4 - Epoch 10/10 - D Loss: 0.0 - G Loss: 0.0\n",
      "Resolution 5 - Epoch 1/10 - D Loss: 0.0 - G Loss: 13.763556480407715\n",
      "Resolution 5 - Epoch 2/10 - D Loss: 0.0 - G Loss: 0.0\n",
      "Resolution 5 - Epoch 3/10 - D Loss: 0.0 - G Loss: 2.5254130363464355\n",
      "Resolution 5 - Epoch 4/10 - D Loss: 0.0 - G Loss: 0.0\n",
      "Resolution 5 - Epoch 5/10 - D Loss: 0.3932455778121948 - G Loss: 0.0\n",
      "Resolution 5 - Epoch 6/10 - D Loss: 784.740234375 - G Loss: 0.0\n",
      "Resolution 5 - Epoch 7/10 - D Loss: 0.0012360322289168835 - G Loss: 0.00896358396857977\n",
      "Resolution 5 - Epoch 8/10 - D Loss: 0.000872946111485362 - G Loss: 0.0\n",
      "Resolution 5 - Epoch 9/10 - D Loss: 0.0006982034537941217 - G Loss: 0.0\n",
      "Resolution 5 - Epoch 10/10 - D Loss: 0.0005783553933724761 - G Loss: 0.442580908536911\n"
     ]
    }
   ],
   "source": [
    "Music_PGAN.train(dataloader=dataloader)"
   ]
  },
  {
   "cell_type": "code",
   "execution_count": 6,
   "metadata": {},
   "outputs": [
    {
     "name": "stdout",
     "output_type": "stream",
     "text": [
      "Resuming training from epoch 4 at resolution 1\n",
      "Resolution 1 - Epoch 5/10 - D Loss: 0.26160770654678345 - G Loss: 0.7603479027748108\n",
      "Resolution 1 - Epoch 6/10 - D Loss: 0.2303144931793213 - G Loss: 0.5080401301383972\n",
      "Checkpoint saved: c:\\0. Studia\\0. Praca inzynierska\\Music_Samples_Generator\\src\\models\\PGAN_model\\checkpoints\\PGAN_checkpoint_res1_epoch6.pth\n",
      "Resolution 1 - Epoch 7/10 - D Loss: 0.24150323867797852 - G Loss: 0.6541447043418884\n",
      "Resolution 1 - Epoch 8/10 - D Loss: 0.2676298916339874 - G Loss: 0.8865568041801453\n",
      "Checkpoint saved: c:\\0. Studia\\0. Praca inzynierska\\Music_Samples_Generator\\src\\models\\PGAN_model\\checkpoints\\PGAN_checkpoint_res1_epoch8.pth\n",
      "Resolution 1 - Epoch 9/10 - D Loss: 0.203263521194458 - G Loss: 0.6860917806625366\n",
      "Resolution 1 - Epoch 10/10 - D Loss: 0.23728398978710175 - G Loss: 0.6139963269233704\n",
      "Checkpoint saved: c:\\0. Studia\\0. Praca inzynierska\\Music_Samples_Generator\\src\\models\\PGAN_model\\checkpoints\\PGAN_checkpoint_res1_epoch10.pth\n",
      "Resolution 2 - Epoch 1/10 - D Loss: 78.67252349853516 - G Loss: 0.05610278621315956\n",
      "Resolution 2 - Epoch 2/10 - D Loss: 22.624921798706055 - G Loss: 1.866912603378296\n",
      "Checkpoint saved: c:\\0. Studia\\0. Praca inzynierska\\Music_Samples_Generator\\src\\models\\PGAN_model\\checkpoints\\PGAN_checkpoint_res2_epoch2.pth\n",
      "Resolution 2 - Epoch 3/10 - D Loss: 2.3212921619415283 - G Loss: 1.8559761047363281\n",
      "Resolution 2 - Epoch 4/10 - D Loss: 1.23313307762146 - G Loss: 1.4538978338241577\n",
      "Checkpoint saved: c:\\0. Studia\\0. Praca inzynierska\\Music_Samples_Generator\\src\\models\\PGAN_model\\checkpoints\\PGAN_checkpoint_res2_epoch4.pth\n",
      "Resolution 2 - Epoch 5/10 - D Loss: 1.122490406036377 - G Loss: 0.9773976802825928\n",
      "Resolution 2 - Epoch 6/10 - D Loss: 0.9300501346588135 - G Loss: 0.8883631825447083\n",
      "Checkpoint saved: c:\\0. Studia\\0. Praca inzynierska\\Music_Samples_Generator\\src\\models\\PGAN_model\\checkpoints\\PGAN_checkpoint_res2_epoch6.pth\n",
      "Resolution 2 - Epoch 7/10 - D Loss: 0.7403625249862671 - G Loss: 0.8216133117675781\n",
      "Resolution 2 - Epoch 8/10 - D Loss: 0.8743345737457275 - G Loss: 0.7778462767601013\n",
      "Checkpoint saved: c:\\0. Studia\\0. Praca inzynierska\\Music_Samples_Generator\\src\\models\\PGAN_model\\checkpoints\\PGAN_checkpoint_res2_epoch8.pth\n",
      "Resolution 2 - Epoch 9/10 - D Loss: 0.6607524156570435 - G Loss: 0.7340502738952637\n",
      "Resolution 2 - Epoch 10/10 - D Loss: 0.6168410181999207 - G Loss: 0.6987054347991943\n",
      "Checkpoint saved: c:\\0. Studia\\0. Praca inzynierska\\Music_Samples_Generator\\src\\models\\PGAN_model\\checkpoints\\PGAN_checkpoint_res2_epoch10.pth\n",
      "Resolution 3 - Epoch 1/10 - D Loss: 0.8070098757743835 - G Loss: 0.9727916717529297\n",
      "Resolution 3 - Epoch 2/10 - D Loss: 0.5940942764282227 - G Loss: 0.9478739500045776\n",
      "Checkpoint saved: c:\\0. Studia\\0. Praca inzynierska\\Music_Samples_Generator\\src\\models\\PGAN_model\\checkpoints\\PGAN_checkpoint_res3_epoch2.pth\n",
      "Resolution 3 - Epoch 3/10 - D Loss: 0.7504528760910034 - G Loss: 0.9196656346321106\n",
      "Resolution 3 - Epoch 4/10 - D Loss: 0.7955031991004944 - G Loss: 0.89674311876297\n",
      "Checkpoint saved: c:\\0. Studia\\0. Praca inzynierska\\Music_Samples_Generator\\src\\models\\PGAN_model\\checkpoints\\PGAN_checkpoint_res3_epoch4.pth\n",
      "Resolution 3 - Epoch 5/10 - D Loss: 0.8276922106742859 - G Loss: 0.8700460195541382\n",
      "Resolution 3 - Epoch 6/10 - D Loss: 0.7822002172470093 - G Loss: 0.8272861242294312\n",
      "Checkpoint saved: c:\\0. Studia\\0. Praca inzynierska\\Music_Samples_Generator\\src\\models\\PGAN_model\\checkpoints\\PGAN_checkpoint_res3_epoch6.pth\n",
      "Resolution 3 - Epoch 7/10 - D Loss: 0.6986027359962463 - G Loss: 0.7848157286643982\n",
      "Resolution 3 - Epoch 8/10 - D Loss: 0.7196312546730042 - G Loss: 0.7384300231933594\n",
      "Checkpoint saved: c:\\0. Studia\\0. Praca inzynierska\\Music_Samples_Generator\\src\\models\\PGAN_model\\checkpoints\\PGAN_checkpoint_res3_epoch8.pth\n",
      "Resolution 3 - Epoch 9/10 - D Loss: 0.6937584280967712 - G Loss: 0.689773440361023\n",
      "Resolution 3 - Epoch 10/10 - D Loss: 0.6007550954818726 - G Loss: 0.6377911567687988\n",
      "Checkpoint saved: c:\\0. Studia\\0. Praca inzynierska\\Music_Samples_Generator\\src\\models\\PGAN_model\\checkpoints\\PGAN_checkpoint_res3_epoch10.pth\n",
      "Resolution 4 - Epoch 1/10 - D Loss: 0.7261605858802795 - G Loss: 0.7148039937019348\n",
      "Resolution 4 - Epoch 2/10 - D Loss: 0.6787444353103638 - G Loss: 0.6486509442329407\n",
      "Checkpoint saved: c:\\0. Studia\\0. Praca inzynierska\\Music_Samples_Generator\\src\\models\\PGAN_model\\checkpoints\\PGAN_checkpoint_res4_epoch2.pth\n",
      "Resolution 4 - Epoch 3/10 - D Loss: 0.625236451625824 - G Loss: 0.5817670822143555\n",
      "Resolution 4 - Epoch 4/10 - D Loss: 0.5740753412246704 - G Loss: 0.5147954821586609\n",
      "Checkpoint saved: c:\\0. Studia\\0. Praca inzynierska\\Music_Samples_Generator\\src\\models\\PGAN_model\\checkpoints\\PGAN_checkpoint_res4_epoch4.pth\n",
      "Resolution 4 - Epoch 5/10 - D Loss: 0.5551280379295349 - G Loss: 0.4541022777557373\n",
      "Resolution 4 - Epoch 6/10 - D Loss: 0.5313827395439148 - G Loss: 0.4026396572589874\n",
      "Checkpoint saved: c:\\0. Studia\\0. Praca inzynierska\\Music_Samples_Generator\\src\\models\\PGAN_model\\checkpoints\\PGAN_checkpoint_res4_epoch6.pth\n",
      "Resolution 4 - Epoch 7/10 - D Loss: 0.5167498588562012 - G Loss: 0.3609011769294739\n",
      "Resolution 4 - Epoch 8/10 - D Loss: 0.5085744261741638 - G Loss: 0.3287019431591034\n",
      "Checkpoint saved: c:\\0. Studia\\0. Praca inzynierska\\Music_Samples_Generator\\src\\models\\PGAN_model\\checkpoints\\PGAN_checkpoint_res4_epoch8.pth\n",
      "Resolution 4 - Epoch 9/10 - D Loss: 0.5003805160522461 - G Loss: 0.3057209253311157\n",
      "Resolution 4 - Epoch 10/10 - D Loss: 0.49499064683914185 - G Loss: 0.28936684131622314\n",
      "Checkpoint saved: c:\\0. Studia\\0. Praca inzynierska\\Music_Samples_Generator\\src\\models\\PGAN_model\\checkpoints\\PGAN_checkpoint_res4_epoch10.pth\n",
      "Resolution 5 - Epoch 1/10 - D Loss: 0.523573100566864 - G Loss: 0.3686487078666687\n",
      "Resolution 5 - Epoch 2/10 - D Loss: 0.5100829601287842 - G Loss: 0.32354241609573364\n",
      "Checkpoint saved: c:\\0. Studia\\0. Praca inzynierska\\Music_Samples_Generator\\src\\models\\PGAN_model\\checkpoints\\PGAN_checkpoint_res5_epoch2.pth\n",
      "Resolution 5 - Epoch 3/10 - D Loss: 0.5034863948822021 - G Loss: 0.2939125597476959\n",
      "Resolution 5 - Epoch 4/10 - D Loss: 0.5013332962989807 - G Loss: 0.2754433751106262\n",
      "Checkpoint saved: c:\\0. Studia\\0. Praca inzynierska\\Music_Samples_Generator\\src\\models\\PGAN_model\\checkpoints\\PGAN_checkpoint_res5_epoch4.pth\n",
      "Resolution 5 - Epoch 5/10 - D Loss: 0.5003967881202698 - G Loss: 0.2643781304359436\n",
      "Resolution 5 - Epoch 6/10 - D Loss: 0.4998281002044678 - G Loss: 0.257876455783844\n",
      "Checkpoint saved: c:\\0. Studia\\0. Praca inzynierska\\Music_Samples_Generator\\src\\models\\PGAN_model\\checkpoints\\PGAN_checkpoint_res5_epoch6.pth\n",
      "Resolution 5 - Epoch 7/10 - D Loss: 0.4998292922973633 - G Loss: 0.25420427322387695\n",
      "Resolution 5 - Epoch 8/10 - D Loss: 0.4998794496059418 - G Loss: 0.25224199891090393\n",
      "Checkpoint saved: c:\\0. Studia\\0. Praca inzynierska\\Music_Samples_Generator\\src\\models\\PGAN_model\\checkpoints\\PGAN_checkpoint_res5_epoch8.pth\n",
      "Resolution 5 - Epoch 9/10 - D Loss: 0.4999275207519531 - G Loss: 0.251232385635376\n",
      "Resolution 5 - Epoch 10/10 - D Loss: 0.4998406171798706 - G Loss: 0.25073477625846863\n",
      "Checkpoint saved: c:\\0. Studia\\0. Praca inzynierska\\Music_Samples_Generator\\src\\models\\PGAN_model\\checkpoints\\PGAN_checkpoint_res5_epoch10.pth\n"
     ]
    }
   ],
   "source": [
    "checkpoint_path = \"../src/models/PGAN_model/checkpoints/PGAN_checkpoint_res1_epoch4.pth\"\n",
    "Music_PGAN.train(dataloader=dataloader, checkpoint_path=checkpoint_path)"
   ]
  },
  {
   "cell_type": "code",
   "execution_count": 53,
   "metadata": {},
   "outputs": [],
   "source": [
    "Music_PGAN.close_all_writers()"
   ]
  },
  {
   "cell_type": "code",
   "execution_count": 7,
   "metadata": {},
   "outputs": [
    {
     "name": "stdout",
     "output_type": "stream",
     "text": [
      "Full model saved: c:\\0. Studia\\0. Praca inzynierska\\Music_Samples_Generator\\src\\models\\PGAN_model\\../../../models/saved_models/PGAN/PGAN\n"
     ]
    }
   ],
   "source": [
    "Music_PGAN.save_full_model(\"PGAN\")"
   ]
  },
  {
   "cell_type": "code",
   "execution_count": 54,
   "metadata": {},
   "outputs": [
    {
     "data": {
      "text/plain": [
       "PGenerator(\n",
       "  (blocks): ModuleList(\n",
       "    (0): ModuleList(\n",
       "      (0): Sequential(\n",
       "        (0): ConvTranspose2d(256, 256, kernel_size=(3, 3), stride=(1, 1), padding=(1, 1))\n",
       "        (1): LeakyReLU(negative_slope=0.2)\n",
       "      )\n",
       "      (1): Sequential(\n",
       "        (0): ConvTranspose2d(256, 256, kernel_size=(3, 3), stride=(1, 1), padding=(1, 1))\n",
       "        (1): LeakyReLU(negative_slope=0.2)\n",
       "      )\n",
       "      (2): Sequential(\n",
       "        (0): Conv2d(256, 1, kernel_size=(1, 1), stride=(1, 1))\n",
       "      )\n",
       "    )\n",
       "    (1): ModuleList(\n",
       "      (0): Sequential(\n",
       "        (0): ConvTranspose2d(256, 128, kernel_size=(3, 3), stride=(1, 1), padding=(1, 1))\n",
       "        (1): LeakyReLU(negative_slope=0.2)\n",
       "      )\n",
       "      (1): Sequential(\n",
       "        (0): ConvTranspose2d(128, 128, kernel_size=(3, 3), stride=(1, 1), padding=(1, 1))\n",
       "        (1): LeakyReLU(negative_slope=0.2)\n",
       "      )\n",
       "      (2): Sequential(\n",
       "        (0): Conv2d(128, 1, kernel_size=(1, 1), stride=(1, 1))\n",
       "      )\n",
       "    )\n",
       "    (2): ModuleList(\n",
       "      (0): Sequential(\n",
       "        (0): ConvTranspose2d(128, 64, kernel_size=(3, 3), stride=(1, 1), padding=(1, 1))\n",
       "        (1): LeakyReLU(negative_slope=0.2)\n",
       "      )\n",
       "      (1): Sequential(\n",
       "        (0): ConvTranspose2d(64, 64, kernel_size=(3, 3), stride=(1, 1), padding=(1, 1))\n",
       "        (1): LeakyReLU(negative_slope=0.2)\n",
       "      )\n",
       "      (2): Sequential(\n",
       "        (0): Conv2d(64, 1, kernel_size=(1, 1), stride=(1, 1))\n",
       "      )\n",
       "    )\n",
       "    (3): ModuleList(\n",
       "      (0): Sequential(\n",
       "        (0): ConvTranspose2d(64, 32, kernel_size=(3, 3), stride=(1, 1), padding=(1, 1))\n",
       "        (1): LeakyReLU(negative_slope=0.2)\n",
       "      )\n",
       "      (1): Sequential(\n",
       "        (0): ConvTranspose2d(32, 32, kernel_size=(3, 3), stride=(1, 1), padding=(1, 1))\n",
       "        (1): LeakyReLU(negative_slope=0.2)\n",
       "      )\n",
       "      (2): Sequential(\n",
       "        (0): Conv2d(32, 1, kernel_size=(1, 1), stride=(1, 1))\n",
       "      )\n",
       "    )\n",
       "    (4): ModuleList(\n",
       "      (0): Sequential(\n",
       "        (0): ConvTranspose2d(32, 16, kernel_size=(3, 3), stride=(1, 1), padding=(1, 1))\n",
       "        (1): LeakyReLU(negative_slope=0.2)\n",
       "      )\n",
       "      (1): Sequential(\n",
       "        (0): ConvTranspose2d(16, 16, kernel_size=(3, 3), stride=(1, 1), padding=(1, 1))\n",
       "        (1): LeakyReLU(negative_slope=0.2)\n",
       "      )\n",
       "      (2): Sequential(\n",
       "        (0): Conv2d(16, 1, kernel_size=(1, 1), stride=(1, 1))\n",
       "      )\n",
       "    )\n",
       "  )\n",
       "  (base_block): ModuleList(\n",
       "    (0): Sequential(\n",
       "      (0): ConvTranspose2d(256, 256, kernel_size=(8, 5), stride=(1, 1))\n",
       "      (1): LeakyReLU(negative_slope=0.2)\n",
       "      (2): ConvTranspose2d(256, 256, kernel_size=(3, 3), stride=(1, 1), padding=(1, 1))\n",
       "      (3): LeakyReLU(negative_slope=0.2)\n",
       "    )\n",
       "    (1): Sequential(\n",
       "      (0): Conv2d(256, 1, kernel_size=(1, 1), stride=(1, 1))\n",
       "    )\n",
       "  )\n",
       ")"
      ]
     },
     "execution_count": 54,
     "metadata": {},
     "output_type": "execute_result"
    }
   ],
   "source": [
    "Music_PGAN.generator.eval()"
   ]
  },
  {
   "cell_type": "code",
   "execution_count": 55,
   "metadata": {},
   "outputs": [],
   "source": [
    "z = torch.randn(1, Music_PGAN.latent_dim, 1, 1).to(Music_PGAN.device)\n",
    "# z.shape\n",
    "generated_spectrogram = Music_PGAN.generator(z)"
   ]
  },
  {
   "cell_type": "code",
   "execution_count": 56,
   "metadata": {},
   "outputs": [
    {
     "name": "stdout",
     "output_type": "stream",
     "text": [
      "(1, 1, 256, 160)\n",
      "(256, 160)\n"
     ]
    }
   ],
   "source": [
    "spectrogram = generated_spectrogram.cpu().detach().numpy()\n",
    "print(spectrogram.shape)\n",
    "spectrogram = spectrogram.squeeze()\n",
    "print(spectrogram.shape)"
   ]
  },
  {
   "cell_type": "code",
   "execution_count": 57,
   "metadata": {},
   "outputs": [
    {
     "data": {
      "image/png": "[encoded data removed]",
      "text/plain": [
       "<Figure size 1000x500 with 2 Axes>"
      ]
     },
     "metadata": {},
     "output_type": "display_data"
    }
   ],
   "source": [
    "import matplotlib.pyplot as plt\n",
    "\n",
    "plt.figure(figsize=(10, 5))\n",
    "\n",
    "img = librosa.display.specshow(spectrogram, x_axis='time', y_axis='log')\n",
    "plt.title('generated_spectrogram', fontsize=20)\n",
    "plt.colorbar(img, format='%0.2f')\n",
    "\n",
    "plt.show()"
   ]
  },
  {
   "cell_type": "code",
   "execution_count": 37,
   "metadata": {},
   "outputs": [],
   "source": [
    "audio = librosa.feature.inverse.mel_to_audio(spectrogram)\n",
    "\n",
    "path = '../models/generated_samples/'\n",
    "file_name = 'PGAN_generated_audio.wav'\n",
    "\n",
    "sf.write(path + file_name, audio, 22050)"
   ]
  }
 ],
 "metadata": {
  "kernelspec": {
   "display_name": "Python 3",
   "language": "python",
   "name": "python3"
  },
  "language_info": {
   "codemirror_mode": {
    "name": "ipython",
    "version": 3
   },
   "file_extension": ".py",
   "mimetype": "text/x-python",
   "name": "python",
   "nbconvert_exporter": "python",
   "pygments_lexer": "ipython3",
   "version": "3.10.11"
  }
 },
 "nbformat": 4,
 "nbformat_minor": 2
}
