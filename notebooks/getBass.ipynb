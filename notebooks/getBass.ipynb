{
 "cells": [
  {
   "cell_type": "code",
   "execution_count": 1,
   "metadata": {},
   "outputs": [],
   "source": [
    "import os\n",
    "import shutil\n",
    "\n",
    "def copy_files_with_prefix(source_dir, dest_dir, prefix):\n",
    "    if not os.path.exists(source_dir):\n",
    "        print(f\"Source directory {source_dir} does not exist!\")\n",
    "        return\n",
    "\n",
    "    if not os.path.exists(dest_dir):\n",
    "        os.makedirs(dest_dir)\n",
    "\n",
    "    for filename in os.listdir(source_dir):\n",
    "        if filename.startswith(prefix):\n",
    "            source_path = os.path.join(source_dir, filename)\n",
    "            dest_path = os.path.join(dest_dir, filename)\n",
    "            \n",
    "            shutil.copy2(source_path, dest_path)\n",
    "            # print(f\"Copied {filename} to {dest_dir}\")\n",
    "\n",
    "source_directory = \"../data/raw/nsynth-train/audio\"\n",
    "destination_directory = \"../data/raw/Bass-train\"\n",
    "prefix = \"bass\"\n",
    "copy_files_with_prefix(source_directory, destination_directory, prefix)\n"
   ]
  }
 ],
 "metadata": {
  "kernelspec": {
   "display_name": "Python 3",
   "language": "python",
   "name": "python3"
  },
  "language_info": {
   "codemirror_mode": {
    "name": "ipython",
    "version": 3
   },
   "file_extension": ".py",
   "mimetype": "text/x-python",
   "name": "python",
   "nbconvert_exporter": "python",
   "pygments_lexer": "ipython3",
   "version": "3.10.11"
  }
 },
 "nbformat": 4,
 "nbformat_minor": 2
}
