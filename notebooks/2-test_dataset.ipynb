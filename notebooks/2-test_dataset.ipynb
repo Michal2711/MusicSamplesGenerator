{
 "cells": [
  {
   "cell_type": "code",
   "execution_count": 11,
   "metadata": {},
   "outputs": [
    {
     "name": "stdout",
     "output_type": "stream",
     "text": [
      "The autoreload extension is already loaded. To reload it, use:\n",
      "  %reload_ext autoreload\n"
     ]
    }
   ],
   "source": [
    "%load_ext autoreload\n",
    "%autoreload 2"
   ]
  },
  {
   "cell_type": "code",
   "execution_count": 12,
   "metadata": {},
   "outputs": [],
   "source": [
    "import sys\n",
    "sys.path.append('../src')\n",
    "from data.audio_dataset import AudioSpectrogramDataset\n",
    "\n",
    "import librosa\n",
    "import soundfile as sf\n"
   ]
  },
  {
   "cell_type": "code",
   "execution_count": 13,
   "metadata": {},
   "outputs": [],
   "source": [
    "dataset = AudioSpectrogramDataset(base_directory=\"../data/raw/NSynth/audio\", spectro_type='mel')\n",
    "item0 = dataset.__getitem__(0)\n",
    "item1 = dataset.__getitem__(1)\n",
    "item2 = dataset.__getitem__(2)"
   ]
  },
  {
   "cell_type": "code",
   "execution_count": 14,
   "metadata": {},
   "outputs": [
    {
     "name": "stdout",
     "output_type": "stream",
     "text": [
      "torch.Size([1, 256, 173])\n",
      "torch.Size([1, 256, 173])\n",
      "torch.Size([1, 256, 173])\n"
     ]
    }
   ],
   "source": [
    "print(item0.shape)\n",
    "print(item1.shape)\n",
    "print(item2.shape)"
   ]
  },
  {
   "cell_type": "code",
   "execution_count": 15,
   "metadata": {},
   "outputs": [],
   "source": [
    "from torch.utils.data import DataLoader\n",
    "\n",
    "batch_size = 16\n",
    "\n",
    "dataloader = DataLoader(dataset, batch_size=batch_size, shuffle=True)"
   ]
  },
  {
   "cell_type": "code",
   "execution_count": 16,
   "metadata": {},
   "outputs": [
    {
     "name": "stdout",
     "output_type": "stream",
     "text": [
      "i: 0, spectro: torch.Size([16, 1, 256, 173])\n",
      "i: 1, spectro: torch.Size([16, 1, 256, 173])\n",
      "i: 2, spectro: torch.Size([16, 1, 256, 173])\n",
      "i: 3, spectro: torch.Size([16, 1, 256, 173])\n",
      "i: 4, spectro: torch.Size([16, 1, 256, 173])\n",
      "i: 5, spectro: torch.Size([16, 1, 256, 173])\n",
      "i: 6, spectro: torch.Size([16, 1, 256, 173])\n",
      "i: 7, spectro: torch.Size([16, 1, 256, 173])\n",
      "i: 8, spectro: torch.Size([16, 1, 256, 173])\n",
      "i: 9, spectro: torch.Size([16, 1, 256, 173])\n",
      "i: 10, spectro: torch.Size([16, 1, 256, 173])\n",
      "i: 11, spectro: torch.Size([16, 1, 256, 173])\n"
     ]
    }
   ],
   "source": [
    "for i, spectro in enumerate(dataloader):\n",
    "    print(f'i: {i}, spectro: {spectro.shape}')\n",
    "    if(i>10): break"
   ]
  },
  {
   "cell_type": "code",
   "execution_count": 17,
   "metadata": {},
   "outputs": [],
   "source": [
    "audio = dataset.pipeline.post_process(item0)\n",
    "name = f'new_librosa-{dataset.spectro_type}.wav'\n",
    "\n",
    "path = '../models/generated_samples/'\n",
    "path = path + name\n",
    "\n",
    "sf.write(path, audio, 22050, subtype='PCM_24')"
   ]
  }
 ],
 "metadata": {
  "kernelspec": {
   "display_name": "Python 3",
   "language": "python",
   "name": "python3"
  },
  "language_info": {
   "codemirror_mode": {
    "name": "ipython",
    "version": 3
   },
   "file_extension": ".py",
   "mimetype": "text/x-python",
   "name": "python",
   "nbconvert_exporter": "python",
   "pygments_lexer": "ipython3",
   "version": "3.10.11"
  },
  "orig_nbformat": 4
 },
 "nbformat": 4,
 "nbformat_minor": 2
}
