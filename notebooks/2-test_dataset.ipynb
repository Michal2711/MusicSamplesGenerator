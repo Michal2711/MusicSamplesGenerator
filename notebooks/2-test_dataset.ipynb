{
 "cells": [
  {
   "cell_type": "code",
   "execution_count": 9,
   "metadata": {},
   "outputs": [
    {
     "name": "stdout",
     "output_type": "stream",
     "text": [
      "The autoreload extension is already loaded. To reload it, use:\n",
      "  %reload_ext autoreload\n"
     ]
    }
   ],
   "source": [
    "%load_ext autoreload\n",
    "%autoreload 2"
   ]
  },
  {
   "cell_type": "code",
   "execution_count": 16,
   "metadata": {},
   "outputs": [],
   "source": [
    "import sys\n",
    "sys.path.append('../src')\n",
    "from data.audio_dataset import AudioSpectrogramDataset\n",
    "\n",
    "import librosa\n",
    "import soundfile as sf\n"
   ]
  },
  {
   "cell_type": "code",
   "execution_count": 11,
   "metadata": {},
   "outputs": [],
   "source": [
    "dataset = AudioSpectrogramDataset(base_directory=\"../data/raw/Magenta/\", spectro_type='mel-spectrogram')\n",
    "item0 = dataset.__getitem__(0)\n",
    "item1 = dataset.__getitem__(1)\n",
    "item2 = dataset.__getitem__(2)"
   ]
  },
  {
   "cell_type": "code",
   "execution_count": 12,
   "metadata": {},
   "outputs": [
    {
     "name": "stdout",
     "output_type": "stream",
     "text": [
      "torch.Size([1, 256, 345])\n",
      "torch.Size([1, 256, 345])\n",
      "torch.Size([1, 256, 345])\n"
     ]
    }
   ],
   "source": [
    "print(item0.shape)\n",
    "print(item1.shape)\n",
    "print(item2.shape)"
   ]
  },
  {
   "cell_type": "code",
   "execution_count": 17,
   "metadata": {},
   "outputs": [],
   "source": [
    "item0 = item0.squeeze(0)\n",
    "array_audio = item0.numpy()\n",
    "\n",
    "if dataset.spectro_type == 'mel-spectrogram':\n",
    "    audio = librosa.feature.inverse.mel_to_audio(\n",
    "        M=array_audio,\n",
    "        sr = dataset.pipeline.resample_sr,\n",
    "        n_iter=100,\n",
    "        n_fft=dataset.pipeline.n_fft,\n",
    "        hop_length=dataset.pipeline.hop_length,\n",
    "        win_length=dataset.pipeline.win_length,                            \n",
    "    )\n",
    "    name = 'new_librosa-mel.wav'\n",
    "elif dataset.spectro_type == 'spectrogram':\n",
    "    audio = librosa.istft(array_audio)\n",
    "    name = 'new_librosa-spectro.wav'\n",
    "\n",
    "path = '../models/generated_samples/'\n",
    "path = path + name\n",
    "\n",
    "sf.write(path, audio, 22050, subtype='PCM_24')"
   ]
  }
 ],
 "metadata": {
  "kernelspec": {
   "display_name": "Python 3",
   "language": "python",
   "name": "python3"
  },
  "language_info": {
   "codemirror_mode": {
    "name": "ipython",
    "version": 3
   },
   "file_extension": ".py",
   "mimetype": "text/x-python",
   "name": "python",
   "nbconvert_exporter": "python",
   "pygments_lexer": "ipython3",
   "version": "3.10.11"
  },
  "orig_nbformat": 4
 },
 "nbformat": 4,
 "nbformat_minor": 2
}
