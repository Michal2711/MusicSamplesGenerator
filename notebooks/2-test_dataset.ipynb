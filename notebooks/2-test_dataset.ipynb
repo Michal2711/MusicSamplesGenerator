{
 "cells": [
  {
   "cell_type": "code",
   "execution_count": 23,
   "metadata": {},
   "outputs": [
    {
     "name": "stdout",
     "output_type": "stream",
     "text": [
      "The autoreload extension is already loaded. To reload it, use:\n",
      "  %reload_ext autoreload\n"
     ]
    }
   ],
   "source": [
    "%load_ext autoreload\n",
    "%autoreload 2"
   ]
  },
  {
   "cell_type": "code",
   "execution_count": 24,
   "metadata": {},
   "outputs": [],
   "source": [
    "import sys\n",
    "sys.path.append('../src')\n",
    "from data.audio_dataset import AudioSpectrogramDataset\n",
    "import soundfile as sf\n"
   ]
  },
  {
   "cell_type": "code",
   "execution_count": 25,
   "metadata": {},
   "outputs": [],
   "source": [
    "dataset = AudioSpectrogramDataset(base_directory=\"../data/raw/nsynth-train/audio\", spectro_type='mel')\n",
    "item0 = dataset.__getitem__(0)\n",
    "item1 = dataset.__getitem__(1)\n",
    "item2 = dataset.__getitem__(2)"
   ]
  },
  {
   "cell_type": "code",
   "execution_count": 26,
   "metadata": {},
   "outputs": [
    {
     "name": "stdout",
     "output_type": "stream",
     "text": [
      "torch.Size([1, 256, 173])\n",
      "torch.Size([1, 256, 173])\n",
      "torch.Size([1, 256, 173])\n"
     ]
    }
   ],
   "source": [
    "print(item0.shape)\n",
    "print(item1.shape)\n",
    "print(item2.shape)"
   ]
  },
  {
   "cell_type": "code",
   "execution_count": 27,
   "metadata": {},
   "outputs": [
    {
     "name": "stdout",
     "output_type": "stream",
     "text": [
      "torch.Size([1, 256, 173])\n"
     ]
    }
   ],
   "source": [
    "DataSize = dataset.get_data_size()\n",
    "print(DataSize)"
   ]
  },
  {
   "cell_type": "code",
   "execution_count": 28,
   "metadata": {},
   "outputs": [],
   "source": [
    "from torch.utils.data import DataLoader\n",
    "\n",
    "batch_size = 16\n",
    "\n",
    "dataloader = DataLoader(dataset, batch_size=batch_size, shuffle=True)"
   ]
  },
  {
   "cell_type": "code",
   "execution_count": 29,
   "metadata": {},
   "outputs": [
    {
     "name": "stdout",
     "output_type": "stream",
     "text": [
      "i: 0, spectro: torch.Size([16, 1, 256, 173])\n",
      "i: 1, spectro: torch.Size([16, 1, 256, 173])\n",
      "i: 2, spectro: torch.Size([16, 1, 256, 173])\n",
      "i: 3, spectro: torch.Size([16, 1, 256, 173])\n",
      "i: 4, spectro: torch.Size([16, 1, 256, 173])\n",
      "i: 5, spectro: torch.Size([16, 1, 256, 173])\n",
      "i: 6, spectro: torch.Size([16, 1, 256, 173])\n",
      "i: 7, spectro: torch.Size([16, 1, 256, 173])\n",
      "i: 8, spectro: torch.Size([16, 1, 256, 173])\n",
      "i: 9, spectro: torch.Size([16, 1, 256, 173])\n",
      "i: 10, spectro: torch.Size([16, 1, 256, 173])\n",
      "i: 11, spectro: torch.Size([16, 1, 256, 173])\n"
     ]
    }
   ],
   "source": [
    "for i, spectro in enumerate(dataloader):\n",
    "    print(f'i: {i}, spectro: {spectro.shape}')\n",
    "    if(i>10): break"
   ]
  },
  {
   "cell_type": "code",
   "execution_count": 30,
   "metadata": {},
   "outputs": [
    {
     "name": "stdout",
     "output_type": "stream",
     "text": [
      "(1, 88064)\n"
     ]
    },
    {
     "ename": "LibsndfileError",
     "evalue": "Error opening 'new_librosa-mel.wav': Format not recognised.",
     "output_type": "error",
     "traceback": [
      "\u001b[1;31m---------------------------------------------------------------------------\u001b[0m",
      "\u001b[1;31mLibsndfileError\u001b[0m                           Traceback (most recent call last)",
      "\u001b[1;32mc:\\0. Studia\\0. Praca inzynierska\\Music_Samples_Generator\\notebooks\\2-test_dataset.ipynb Cell 8\u001b[0m line \u001b[0;36m9\n\u001b[0;32m      <a href='vscode-notebook-cell:/c%3A/0.%20Studia/0.%20Praca%20inzynierska/Music_Samples_Generator/notebooks/2-test_dataset.ipynb#X10sZmlsZQ%3D%3D?line=5'>6</a>\u001b[0m path \u001b[39m=\u001b[39m \u001b[39m'\u001b[39m\u001b[39m'\u001b[39m\n\u001b[0;32m      <a href='vscode-notebook-cell:/c%3A/0.%20Studia/0.%20Praca%20inzynierska/Music_Samples_Generator/notebooks/2-test_dataset.ipynb#X10sZmlsZQ%3D%3D?line=6'>7</a>\u001b[0m path \u001b[39m=\u001b[39m path \u001b[39m+\u001b[39m name\n\u001b[1;32m----> <a href='vscode-notebook-cell:/c%3A/0.%20Studia/0.%20Praca%20inzynierska/Music_Samples_Generator/notebooks/2-test_dataset.ipynb#X10sZmlsZQ%3D%3D?line=8'>9</a>\u001b[0m sf\u001b[39m.\u001b[39;49mwrite(path, audio, \u001b[39m22050\u001b[39;49m, subtype\u001b[39m=\u001b[39;49m\u001b[39m'\u001b[39;49m\u001b[39mPCM_24\u001b[39;49m\u001b[39m'\u001b[39;49m)\n",
      "File \u001b[1;32m~\\AppData\\Local\\Packages\\PythonSoftwareFoundation.Python.3.10_qbz5n2kfra8p0\\LocalCache\\local-packages\\Python310\\site-packages\\soundfile.py:343\u001b[0m, in \u001b[0;36mwrite\u001b[1;34m(file, data, samplerate, subtype, endian, format, closefd)\u001b[0m\n\u001b[0;32m    341\u001b[0m \u001b[39melse\u001b[39;00m:\n\u001b[0;32m    342\u001b[0m     channels \u001b[39m=\u001b[39m data\u001b[39m.\u001b[39mshape[\u001b[39m1\u001b[39m]\n\u001b[1;32m--> 343\u001b[0m \u001b[39mwith\u001b[39;00m SoundFile(file, \u001b[39m'\u001b[39;49m\u001b[39mw\u001b[39;49m\u001b[39m'\u001b[39;49m, samplerate, channels,\n\u001b[0;32m    344\u001b[0m                subtype, endian, \u001b[39mformat\u001b[39;49m, closefd) \u001b[39mas\u001b[39;00m f:\n\u001b[0;32m    345\u001b[0m     f\u001b[39m.\u001b[39mwrite(data)\n",
      "File \u001b[1;32m~\\AppData\\Local\\Packages\\PythonSoftwareFoundation.Python.3.10_qbz5n2kfra8p0\\LocalCache\\local-packages\\Python310\\site-packages\\soundfile.py:658\u001b[0m, in \u001b[0;36mSoundFile.__init__\u001b[1;34m(self, file, mode, samplerate, channels, subtype, endian, format, closefd)\u001b[0m\n\u001b[0;32m    655\u001b[0m \u001b[39mself\u001b[39m\u001b[39m.\u001b[39m_mode \u001b[39m=\u001b[39m mode\n\u001b[0;32m    656\u001b[0m \u001b[39mself\u001b[39m\u001b[39m.\u001b[39m_info \u001b[39m=\u001b[39m _create_info_struct(file, mode, samplerate, channels,\n\u001b[0;32m    657\u001b[0m                                  \u001b[39mformat\u001b[39m, subtype, endian)\n\u001b[1;32m--> 658\u001b[0m \u001b[39mself\u001b[39m\u001b[39m.\u001b[39m_file \u001b[39m=\u001b[39m \u001b[39mself\u001b[39;49m\u001b[39m.\u001b[39;49m_open(file, mode_int, closefd)\n\u001b[0;32m    659\u001b[0m \u001b[39mif\u001b[39;00m \u001b[39mset\u001b[39m(mode)\u001b[39m.\u001b[39missuperset(\u001b[39m'\u001b[39m\u001b[39mr+\u001b[39m\u001b[39m'\u001b[39m) \u001b[39mand\u001b[39;00m \u001b[39mself\u001b[39m\u001b[39m.\u001b[39mseekable():\n\u001b[0;32m    660\u001b[0m     \u001b[39m# Move write position to 0 (like in Python file objects)\u001b[39;00m\n\u001b[0;32m    661\u001b[0m     \u001b[39mself\u001b[39m\u001b[39m.\u001b[39mseek(\u001b[39m0\u001b[39m)\n",
      "File \u001b[1;32m~\\AppData\\Local\\Packages\\PythonSoftwareFoundation.Python.3.10_qbz5n2kfra8p0\\LocalCache\\local-packages\\Python310\\site-packages\\soundfile.py:1216\u001b[0m, in \u001b[0;36mSoundFile._open\u001b[1;34m(self, file, mode_int, closefd)\u001b[0m\n\u001b[0;32m   1213\u001b[0m \u001b[39mif\u001b[39;00m file_ptr \u001b[39m==\u001b[39m _ffi\u001b[39m.\u001b[39mNULL:\n\u001b[0;32m   1214\u001b[0m     \u001b[39m# get the actual error code\u001b[39;00m\n\u001b[0;32m   1215\u001b[0m     err \u001b[39m=\u001b[39m _snd\u001b[39m.\u001b[39msf_error(file_ptr)\n\u001b[1;32m-> 1216\u001b[0m     \u001b[39mraise\u001b[39;00m LibsndfileError(err, prefix\u001b[39m=\u001b[39m\u001b[39m\"\u001b[39m\u001b[39mError opening \u001b[39m\u001b[39m{0!r}\u001b[39;00m\u001b[39m: \u001b[39m\u001b[39m\"\u001b[39m\u001b[39m.\u001b[39mformat(\u001b[39mself\u001b[39m\u001b[39m.\u001b[39mname))\n\u001b[0;32m   1217\u001b[0m \u001b[39mif\u001b[39;00m mode_int \u001b[39m==\u001b[39m _snd\u001b[39m.\u001b[39mSFM_WRITE:\n\u001b[0;32m   1218\u001b[0m     \u001b[39m# Due to a bug in libsndfile version <= 1.0.25, frames != 0\u001b[39;00m\n\u001b[0;32m   1219\u001b[0m     \u001b[39m# when opening a named pipe in SFM_WRITE mode.\u001b[39;00m\n\u001b[0;32m   1220\u001b[0m     \u001b[39m# See http://github.com/erikd/libsndfile/issues/77.\u001b[39;00m\n\u001b[0;32m   1221\u001b[0m     \u001b[39mself\u001b[39m\u001b[39m.\u001b[39m_info\u001b[39m.\u001b[39mframes \u001b[39m=\u001b[39m \u001b[39m0\u001b[39m\n",
      "\u001b[1;31mLibsndfileError\u001b[0m: Error opening 'new_librosa-mel.wav': Format not recognised."
     ]
    }
   ],
   "source": [
    "audio = dataset.pipeline.post_process(item0)\n",
    "name = f'new_librosa-{dataset.spectro_type}.wav'\n",
    "\n",
    "path = '../models/generated_samples/'\n",
    "path = path + name\n",
    "\n",
    "sf.write(path, audio, 22050, subtype='PCM_24')"
   ]
  }
 ],
 "metadata": {
  "kernelspec": {
   "display_name": "Python 3",
   "language": "python",
   "name": "python3"
  },
  "language_info": {
   "codemirror_mode": {
    "name": "ipython",
    "version": 3
   },
   "file_extension": ".py",
   "mimetype": "text/x-python",
   "name": "python",
   "nbconvert_exporter": "python",
   "pygments_lexer": "ipython3",
   "version": "3.10.11"
  },
  "orig_nbformat": 4
 },
 "nbformat": 4,
 "nbformat_minor": 2
}
