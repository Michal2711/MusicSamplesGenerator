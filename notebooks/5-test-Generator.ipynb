{
 "cells": [
  {
   "cell_type": "code",
   "execution_count": 1,
   "metadata": {},
   "outputs": [],
   "source": [
    "%load_ext autoreload\n",
    "%autoreload 2"
   ]
  },
  {
   "cell_type": "code",
   "execution_count": 2,
   "metadata": {},
   "outputs": [],
   "source": [
    "import matplotlib.pyplot as plt\n",
    "import seaborn as sns\n",
    "from itertools import cycle\n",
    "\n",
    "sns.set_theme(style=\"white\", palette=None)\n",
    "color_pal = plt.rcParams[\"axes.prop_cycle\"].by_key()[\"color\"]\n",
    "color_cycle = cycle(plt.rcParams[\"axes.prop_cycle\"].by_key()[\"color\"])"
   ]
  },
  {
   "cell_type": "code",
   "execution_count": 4,
   "metadata": {},
   "outputs": [
    {
     "name": "stderr",
     "output_type": "stream",
     "text": [
      "C:\\Users\\micha\\AppData\\Local\\Packages\\PythonSoftwareFoundation.Python.3.10_qbz5n2kfra8p0\\LocalCache\\local-packages\\Python310\\site-packages\\tqdm\\auto.py:21: TqdmWarning: IProgress not found. Please update jupyter and ipywidgets. See https://ipywidgets.readthedocs.io/en/stable/user_install.html\n",
      "  from .autonotebook import tqdm as notebook_tqdm\n"
     ]
    }
   ],
   "source": [
    "import sys\n",
    "sys.path.append('../src')\n",
    "from data.audio_dataset import AudioSpectrogramDataset\n",
    "from models.PGAN_model.PGenerator import PGenerator\n",
    "from models.PGAN_model.PDiscriminator import PDiscriminator\n",
    "from models.PGAN_model.old_version.Pgen_old import PGenerator2\n",
    "\n",
    "import torch\n",
    "import torch.nn.functional as F\n",
    "import pytorch_lightning as pl\n",
    "import soundfile as sf\n",
    "from torch.utils.data import DataLoader"
   ]
  },
  {
   "cell_type": "code",
   "execution_count": 4,
   "metadata": {},
   "outputs": [],
   "source": [
    "# # hyperparameters\n",
    "# z_dim = 100\n",
    "batch_size = 32\n",
    "num_epochs = 50\n",
    "latent_dim = 100\n",
    "# learning_rate = 0.0002\n",
    "# beta1 = 0.5\n",
    "\n",
    "# base_directory = \"../data/raw/NSynth/audio\"\n",
    "base_directory = \"../data/raw/Bass\"\n",
    "\n",
    "dataset = AudioSpectrogramDataset(base_directory=base_directory, spectro_type='mel')\n",
    "dataloader = DataLoader(dataset, batch_size=batch_size, shuffle=True)"
   ]
  },
  {
   "cell_type": "code",
   "execution_count": 5,
   "metadata": {},
   "outputs": [
    {
     "name": "stdout",
     "output_type": "stream",
     "text": [
      "torch.Size([32, 1, 256, 160])\n"
     ]
    }
   ],
   "source": [
    "first_batch = next(iter(dataloader))\n",
    "print(first_batch.size())"
   ]
  },
  {
   "cell_type": "code",
   "execution_count": 5,
   "metadata": {},
   "outputs": [
    {
     "name": "stdout",
     "output_type": "stream",
     "text": [
      "torch.Size([64, 1, 8, 5])\n"
     ]
    }
   ],
   "source": [
    "temp = torch.rand((64, 1, 8, 5))\n",
    "# temp = torch.unsqueeze(temp, dim=0)\n",
    "print(temp.shape)"
   ]
  },
  {
   "cell_type": "code",
   "execution_count": 7,
   "metadata": {},
   "outputs": [],
   "source": [
    "import torch.nn.functional as F\n",
    "goal_size = [64, 1, 8, 5]\n",
    "goal = (8, 5)"
   ]
  },
  {
   "cell_type": "code",
   "execution_count": 8,
   "metadata": {},
   "outputs": [
    {
     "data": {
      "text/plain": [
       "[128, 80]"
      ]
     },
     "execution_count": 8,
     "metadata": {},
     "output_type": "execute_result"
    }
   ],
   "source": [
    "goal_size[-2:]"
   ]
  },
  {
   "cell_type": "code",
   "execution_count": 9,
   "metadata": {},
   "outputs": [],
   "source": [
    "low_res_real = F.adaptive_avg_pool2d(temp, output_size=goal)\n",
    "low_res_real2 = F.interpolate(temp, size=goal_size[-2:], mode='nearest')"
   ]
  },
  {
   "cell_type": "code",
   "execution_count": 5,
   "metadata": {},
   "outputs": [
    {
     "data": {
      "text/plain": [
       "device(type='cuda', index=0)"
      ]
     },
     "execution_count": 5,
     "metadata": {},
     "output_type": "execute_result"
    }
   ],
   "source": [
    "if torch.cuda.is_available():\n",
    "    device = torch.device(\"cuda:0\")\n",
    "    n_devices = torch.cuda.device_count()\n",
    "else:\n",
    "    device = torch.device(\"cpu\")\n",
    "    n_devices = 1    \n",
    "device"
   ]
  },
  {
   "cell_type": "code",
   "execution_count": 24,
   "metadata": {},
   "outputs": [
    {
     "name": "stdout",
     "output_type": "stream",
     "text": [
      "low_res_real: torch.Size([32, 1, 128, 80])\n",
      "low_res_real2: torch.Size([32, 1, 128, 80])\n"
     ]
    }
   ],
   "source": [
    "print(f'low_res_real: {low_res_real.shape}')\n",
    "print(f'low_res_real2: {low_res_real2.shape}')"
   ]
  },
  {
   "cell_type": "code",
   "execution_count": 6,
   "metadata": {},
   "outputs": [
    {
     "name": "stdout",
     "output_type": "stream",
     "text": [
      "torch.Size([64, 1, 16, 10])\n"
     ]
    }
   ],
   "source": [
    "temp = torch.rand((64, 1, 16, 10))\n",
    "# temp = torch.unsqueeze(temp, dim=0)\n",
    "print(temp.shape)"
   ]
  },
  {
   "cell_type": "code",
   "execution_count": 9,
   "metadata": {},
   "outputs": [
    {
     "name": "stdout",
     "output_type": "stream",
     "text": [
      "torch.Size([64, 1])\n",
      "tensor([[ 0.0181],\n",
      "        [ 0.0152],\n",
      "        [ 0.0026],\n",
      "        [ 0.0221],\n",
      "        [ 0.0226],\n",
      "        [ 0.0042],\n",
      "        [ 0.0069],\n",
      "        [ 0.0081],\n",
      "        [ 0.0201],\n",
      "        [ 0.0125],\n",
      "        [ 0.0261],\n",
      "        [-0.0048],\n",
      "        [ 0.0133],\n",
      "        [ 0.0069],\n",
      "        [-0.0114],\n",
      "        [ 0.0042],\n",
      "        [ 0.0055],\n",
      "        [ 0.0128],\n",
      "        [ 0.0124],\n",
      "        [ 0.0128],\n",
      "        [ 0.0268],\n",
      "        [ 0.0195],\n",
      "        [ 0.0103],\n",
      "        [ 0.0015],\n",
      "        [ 0.0223],\n",
      "        [ 0.0089],\n",
      "        [ 0.0115],\n",
      "        [ 0.0127],\n",
      "        [ 0.0023],\n",
      "        [ 0.0041],\n",
      "        [ 0.0044],\n",
      "        [ 0.0148],\n",
      "        [ 0.0049],\n",
      "        [ 0.0163],\n",
      "        [ 0.0219],\n",
      "        [ 0.0165],\n",
      "        [ 0.0116],\n",
      "        [ 0.0097],\n",
      "        [ 0.0093],\n",
      "        [ 0.0137],\n",
      "        [ 0.0070],\n",
      "        [ 0.0093],\n",
      "        [ 0.0089],\n",
      "        [ 0.0081],\n",
      "        [ 0.0109],\n",
      "        [ 0.0098],\n",
      "        [ 0.0003],\n",
      "        [ 0.0145],\n",
      "        [ 0.0015],\n",
      "        [ 0.0128],\n",
      "        [ 0.0198],\n",
      "        [ 0.0144],\n",
      "        [ 0.0123],\n",
      "        [ 0.0157],\n",
      "        [ 0.0100],\n",
      "        [ 0.0166],\n",
      "        [ 0.0099],\n",
      "        [ 0.0059],\n",
      "        [ 0.0112],\n",
      "        [ 0.0124],\n",
      "        [ 0.0257],\n",
      "        [-0.0091],\n",
      "        [ 0.0190],\n",
      "        [ 0.0054]], device='cuda:0', grad_fn=<ViewBackward0>)\n"
     ]
    }
   ],
   "source": [
    "discriminator = PDiscriminator(mini_batch_normalization=True).to(device)\n",
    "low_res_real = temp.to(device)\n",
    "discriminator.add_next_block(new_depth=256)\n",
    "# discriminator.add_next_block(new_depth=128)\n",
    "# discriminator.add_next_block(new_depth=64)\n",
    "# discriminator.add_next_block(new_depth=32)\n",
    "# discriminator.add_next_block(new_depth=16)\n",
    "discriminator.set_alpha(0.2)\n",
    "# print(first_batch_low_resolution.device)\n",
    "dummy_output = discriminator(low_res_real)\n",
    "print(dummy_output.shape)\n",
    "print(dummy_output)"
   ]
  },
  {
   "cell_type": "code",
   "execution_count": 13,
   "metadata": {},
   "outputs": [
    {
     "name": "stdout",
     "output_type": "stream",
     "text": [
      "torch.Size([64, 1, 16, 10])\n"
     ]
    }
   ],
   "source": [
    "p_latent_dim = 256\n",
    "dummy_latent_vector = torch.randn((64, p_latent_dim, 1, 1)).to(device)\n",
    "generator = PGenerator(latent_dim=p_latent_dim).to(device)\n",
    "generator.add_next_block(new_depth=256)\n",
    "# generator.add_next_block(new_depth=128)\n",
    "# generator.add_next_block(new_depth=64)\n",
    "# generator.add_next_block(new_depth=32)\n",
    "# generator.add_next_block(new_depth=16)\n",
    "generator.set_alpha(1.0)\n",
    "# generator.set_alpha(0.2)\n",
    "dummy_output = generator(dummy_latent_vector)\n",
    "print(dummy_output.shape)"
   ]
  },
  {
   "cell_type": "code",
   "execution_count": 36,
   "metadata": {},
   "outputs": [
    {
     "name": "stdout",
     "output_type": "stream",
     "text": [
      "PGenerator2(\n",
      "  (blocks): ModuleList(\n",
      "    (0): ModuleList(\n",
      "      (0): Sequential(\n",
      "        (0): Upsample(scale_factor=2.0, mode=nearest)\n",
      "        (1): ConvTranspose2d(256, 256, kernel_size=(3, 3), stride=(1, 1), padding=(1, 1))\n",
      "        (2): LeakyReLU(negative_slope=0.2)\n",
      "        (3): ConvTranspose2d(256, 256, kernel_size=(3, 3), stride=(1, 1), padding=(1, 1))\n",
      "        (4): LeakyReLU(negative_slope=0.2)\n",
      "      )\n",
      "      (1): Sequential(\n",
      "        (0): Conv2d(256, 1, kernel_size=(1, 1), stride=(1, 1))\n",
      "        (1): Upsample(scale_factor=2.0, mode=nearest)\n",
      "      )\n",
      "    )\n",
      "  )\n",
      "  (normalizationLayer): NormalizationLayer()\n",
      "  (l1): Sequential(\n",
      "    (0): Linear(in_features=100, out_features=10240, bias=True)\n",
      "    (1): LeakyReLU(negative_slope=0.2)\n",
      "  )\n",
      "  (base_block): ModuleList(\n",
      "    (0): Sequential(\n",
      "      (0): ConvTranspose2d(256, 256, kernel_size=(3, 3), stride=(1, 1), padding=(1, 1))\n",
      "      (1): LeakyReLU(negative_slope=0.2)\n",
      "    )\n",
      "    (1): Sequential(\n",
      "      (0): Conv2d(256, 1, kernel_size=(1, 1), stride=(1, 1))\n",
      "    )\n",
      "  )\n",
      ")\n"
     ]
    }
   ],
   "source": [
    "print(generator)"
   ]
  }
 ],
 "metadata": {
  "kernelspec": {
   "display_name": "Python 3",
   "language": "python",
   "name": "python3"
  },
  "language_info": {
   "codemirror_mode": {
    "name": "ipython",
    "version": 3
   },
   "file_extension": ".py",
   "mimetype": "text/x-python",
   "name": "python",
   "nbconvert_exporter": "python",
   "pygments_lexer": "ipython3",
   "version": "3.10.11"
  },
  "orig_nbformat": 4
 },
 "nbformat": 4,
 "nbformat_minor": 2
}
