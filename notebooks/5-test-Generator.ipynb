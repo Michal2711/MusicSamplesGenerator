{
 "cells": [
  {
   "cell_type": "code",
   "execution_count": 33,
   "metadata": {},
   "outputs": [
    {
     "name": "stdout",
     "output_type": "stream",
     "text": [
      "The autoreload extension is already loaded. To reload it, use:\n",
      "  %reload_ext autoreload\n"
     ]
    }
   ],
   "source": [
    "%load_ext autoreload\n",
    "%autoreload 2"
   ]
  },
  {
   "cell_type": "code",
   "execution_count": 34,
   "metadata": {},
   "outputs": [],
   "source": [
    "import matplotlib.pyplot as plt\n",
    "import seaborn as sns\n",
    "from itertools import cycle\n",
    "\n",
    "sns.set_theme(style=\"white\", palette=None)\n",
    "color_pal = plt.rcParams[\"axes.prop_cycle\"].by_key()[\"color\"]\n",
    "color_cycle = cycle(plt.rcParams[\"axes.prop_cycle\"].by_key()[\"color\"])"
   ]
  },
  {
   "cell_type": "code",
   "execution_count": 35,
   "metadata": {},
   "outputs": [],
   "source": [
    "import sys\n",
    "sys.path.append('../src')\n",
    "from data.audio_dataset import AudioSpectrogramDataset\n",
    "from models.Old_models.Generator import Generator\n",
    "from models.Old_models.Discriminator import Discriminator\n",
    "from models.PGAN_model.PGenerator import PGenerator\n",
    "from models.PGAN_model.PDiscriminator import PDiscriminator\n",
    "\n",
    "import torch\n",
    "import torch.nn.functional as F\n",
    "import pytorch_lightning as pl\n",
    "import librosa\n",
    "import soundfile as sf\n",
    "from torch.utils.data import DataLoader"
   ]
  },
  {
   "cell_type": "code",
   "execution_count": 36,
   "metadata": {},
   "outputs": [],
   "source": [
    "# # hyperparameters\n",
    "# z_dim = 100\n",
    "batch_size = 32\n",
    "num_epochs = 50\n",
    "latent_dim = 100\n",
    "# learning_rate = 0.0002\n",
    "# beta1 = 0.5\n",
    "\n",
    "# base_directory = \"../data/raw/NSynth/audio\"\n",
    "base_directory = \"../data/raw/Bass\"\n",
    "\n",
    "dataset = AudioSpectrogramDataset(base_directory=base_directory, spectro_type='mel')\n",
    "dataloader = DataLoader(dataset, batch_size=batch_size, shuffle=True)"
   ]
  },
  {
   "cell_type": "code",
   "execution_count": 37,
   "metadata": {},
   "outputs": [
    {
     "name": "stdout",
     "output_type": "stream",
     "text": [
      "torch.Size([32, 1, 256, 160])\n"
     ]
    }
   ],
   "source": [
    "first_batch = next(iter(dataloader))\n",
    "print(first_batch.size())"
   ]
  },
  {
   "cell_type": "code",
   "execution_count": 38,
   "metadata": {},
   "outputs": [
    {
     "name": "stdout",
     "output_type": "stream",
     "text": [
      "torch.Size([32, 1, 16, 10])\n"
     ]
    }
   ],
   "source": [
    "temp = torch.rand((32, 1, 16, 10))\n",
    "# temp = torch.unsqueeze(temp, dim=0)\n",
    "print(temp.shape)"
   ]
  },
  {
   "cell_type": "code",
   "execution_count": 39,
   "metadata": {},
   "outputs": [],
   "source": [
    "import torch.nn.functional as F\n",
    "goal_size = [32, 1, 8, 5]"
   ]
  },
  {
   "cell_type": "code",
   "execution_count": 40,
   "metadata": {},
   "outputs": [],
   "source": [
    "low_res_real = F.adaptive_avg_pool2d(temp, output_size=(8, 5))\n",
    "low_res_real2 = F.interpolate(temp, size=goal_size[-2:], mode='nearest')"
   ]
  },
  {
   "cell_type": "code",
   "execution_count": 41,
   "metadata": {},
   "outputs": [
    {
     "data": {
      "text/plain": [
       "device(type='cuda', index=0)"
      ]
     },
     "execution_count": 41,
     "metadata": {},
     "output_type": "execute_result"
    }
   ],
   "source": [
    "if torch.cuda.is_available():\n",
    "    device = torch.device(\"cuda:0\")\n",
    "    n_devices = torch.cuda.device_count()\n",
    "else:\n",
    "    device = torch.device(\"cpu\")\n",
    "    n_devices = 1    \n",
    "device"
   ]
  },
  {
   "cell_type": "code",
   "execution_count": 42,
   "metadata": {},
   "outputs": [
    {
     "data": {
      "text/plain": [
       "torch.Size([32, 1, 16, 10])"
      ]
     },
     "execution_count": 42,
     "metadata": {},
     "output_type": "execute_result"
    }
   ],
   "source": [
    "first_batch_low_resolution = F.adaptive_avg_pool2d(first_batch, output_size=(16, 10))\n",
    "first_batch_low_resolution = first_batch_low_resolution.to(device)\n",
    "first_batch_low_resolution.shape"
   ]
  },
  {
   "cell_type": "code",
   "execution_count": 43,
   "metadata": {},
   "outputs": [
    {
     "name": "stdout",
     "output_type": "stream",
     "text": [
      "low_res_real: torch.Size([32, 1, 8, 5])\n",
      "low_res_real2: torch.Size([32, 1, 8, 5])\n"
     ]
    }
   ],
   "source": [
    "print(f'low_res_real: {low_res_real.shape}')\n",
    "print(f'low_res_real2: {low_res_real2.shape}')"
   ]
  },
  {
   "cell_type": "code",
   "execution_count": 54,
   "metadata": {},
   "outputs": [
    {
     "name": "stdout",
     "output_type": "stream",
     "text": [
      "torch.Size([32, 1, 8, 10])\n"
     ]
    }
   ],
   "source": [
    "# t = torch.nn.Upsample(scale_factor=0.5, mode='nearest')\n",
    "# print(t(temp).shape)"
   ]
  },
  {
   "cell_type": "code",
   "execution_count": 45,
   "metadata": {},
   "outputs": [],
   "source": [
    "discriminator = PDiscriminator().to(device)\n",
    "# print(next(discriminator.parameters()).device)\n",
    "discriminator.add_next_block(new_depth=256)\n",
    "# print(next(discriminator.parameters()).device)\n",
    "# discriminator.add_next_block(new_depth=128)\n",
    "discriminator.set_alpha(0.2)\n",
    "# print(first_batch_low_resolution.device)\n",
    "dummy_output = discriminator(first_batch_low_resolution)\n",
    "# print(dummy_output.shape)\n",
    "# print(dummy_output)"
   ]
  },
  {
   "cell_type": "code",
   "execution_count": 16,
   "metadata": {},
   "outputs": [
    {
     "name": "stdout",
     "output_type": "stream",
     "text": [
      "output_size: (8, 5)\n",
      "output_size: (16, 10)\n",
      "output_size: (32, 20)\n",
      "output_size: (64, 40)\n",
      "output_size: (128, 80)\n",
      "torch.Size([1, 1, 128, 80])\n"
     ]
    }
   ],
   "source": [
    "p_latent_dim = 100\n",
    "dummy_latent_vector = torch.randn((1, p_latent_dim))\n",
    "generator = PGenerator()\n",
    "generator.add_next_block(new_depth=256)\n",
    "generator.add_next_block(new_depth=128)\n",
    "generator.add_next_block(new_depth=64)\n",
    "generator.add_next_block(new_depth=32)\n",
    "generator.set_alpha(0.2)\n",
    "dummy_output = generator(dummy_latent_vector)\n",
    "print(dummy_output.shape)"
   ]
  },
  {
   "cell_type": "code",
   "execution_count": 36,
   "metadata": {},
   "outputs": [
    {
     "name": "stdout",
     "output_type": "stream",
     "text": [
      "PGenerator2(\n",
      "  (blocks): ModuleList(\n",
      "    (0): ModuleList(\n",
      "      (0): Sequential(\n",
      "        (0): Upsample(scale_factor=2.0, mode=nearest)\n",
      "        (1): ConvTranspose2d(256, 256, kernel_size=(3, 3), stride=(1, 1), padding=(1, 1))\n",
      "        (2): LeakyReLU(negative_slope=0.2)\n",
      "        (3): ConvTranspose2d(256, 256, kernel_size=(3, 3), stride=(1, 1), padding=(1, 1))\n",
      "        (4): LeakyReLU(negative_slope=0.2)\n",
      "      )\n",
      "      (1): Sequential(\n",
      "        (0): Conv2d(256, 1, kernel_size=(1, 1), stride=(1, 1))\n",
      "        (1): Upsample(scale_factor=2.0, mode=nearest)\n",
      "      )\n",
      "    )\n",
      "  )\n",
      "  (normalizationLayer): NormalizationLayer()\n",
      "  (l1): Sequential(\n",
      "    (0): Linear(in_features=100, out_features=10240, bias=True)\n",
      "    (1): LeakyReLU(negative_slope=0.2)\n",
      "  )\n",
      "  (base_block): ModuleList(\n",
      "    (0): Sequential(\n",
      "      (0): ConvTranspose2d(256, 256, kernel_size=(3, 3), stride=(1, 1), padding=(1, 1))\n",
      "      (1): LeakyReLU(negative_slope=0.2)\n",
      "    )\n",
      "    (1): Sequential(\n",
      "      (0): Conv2d(256, 1, kernel_size=(1, 1), stride=(1, 1))\n",
      "    )\n",
      "  )\n",
      ")\n"
     ]
    }
   ],
   "source": [
    "print(generator)"
   ]
  },
  {
   "cell_type": "code",
   "execution_count": 7,
   "metadata": {},
   "outputs": [
    {
     "name": "stdout",
     "output_type": "stream",
     "text": [
      "torch.Size([1, 256, 16, 10])\n",
      "torch.Size([1, 128, 33, 21])\n",
      "torch.Size([1, 64, 67, 43])\n",
      "torch.Size([1, 32, 134, 86])\n",
      "torch.Size([1, 16, 268, 172])\n",
      "torch.Size([1, 1, 256, 173])\n",
      "torch.Size([1, 1, 256, 173])\n"
     ]
    }
   ],
   "source": [
    "dummy_latent_vector = torch.randn((1, latent_dim))\n",
    "generator = Generator3(height=256, width=172, transformation_type='mel', latent_dim=latent_dim)\n",
    "dummy_output = generator(dummy_latent_vector)\n",
    "print(dummy_output.shape)"
   ]
  },
  {
   "cell_type": "code",
   "execution_count": 16,
   "metadata": {},
   "outputs": [
    {
     "name": "stdout",
     "output_type": "stream",
     "text": [
      "dummy shape: torch.Size([1, 1, 256, 173])\n",
      "torch.Size([1, 16, 268, 172])\n",
      "torch.Size([1, 32, 134, 86])\n",
      "torch.Size([1, 64, 67, 43])\n",
      "torch.Size([1, 128, 33, 21])\n",
      "torch.Size([1, 256, 16, 10])\n",
      "torch.Size([1, 40960])\n",
      "torch.Size([1, 1])\n",
      "torch.Size([1, 1])\n"
     ]
    }
   ],
   "source": [
    "discriminator = Discriminator(height=256, width=173, transformation_type='mel')\n",
    "print(f'dummy shape: {dummy_output.shape}')\n",
    "discriminator_output = discriminator(dummy_output)\n",
    "print(discriminator_output.shape)"
   ]
  }
 ],
 "metadata": {
  "kernelspec": {
   "display_name": "Python 3",
   "language": "python",
   "name": "python3"
  },
  "language_info": {
   "codemirror_mode": {
    "name": "ipython",
    "version": 3
   },
   "file_extension": ".py",
   "mimetype": "text/x-python",
   "name": "python",
   "nbconvert_exporter": "python",
   "pygments_lexer": "ipython3",
   "version": "3.10.11"
  },
  "orig_nbformat": 4
 },
 "nbformat": 4,
 "nbformat_minor": 2
}
