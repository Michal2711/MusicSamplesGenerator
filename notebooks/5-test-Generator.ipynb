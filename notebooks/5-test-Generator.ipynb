{
 "cells": [
  {
   "cell_type": "code",
   "execution_count": 48,
   "metadata": {},
   "outputs": [
    {
     "name": "stdout",
     "output_type": "stream",
     "text": [
      "The autoreload extension is already loaded. To reload it, use:\n",
      "  %reload_ext autoreload\n"
     ]
    }
   ],
   "source": [
    "%load_ext autoreload\n",
    "%autoreload 2"
   ]
  },
  {
   "cell_type": "code",
   "execution_count": 49,
   "metadata": {},
   "outputs": [],
   "source": [
    "import matplotlib.pyplot as plt\n",
    "import seaborn as sns\n",
    "from itertools import cycle\n",
    "\n",
    "sns.set_theme(style=\"white\", palette=None)\n",
    "color_pal = plt.rcParams[\"axes.prop_cycle\"].by_key()[\"color\"]\n",
    "color_cycle = cycle(plt.rcParams[\"axes.prop_cycle\"].by_key()[\"color\"])"
   ]
  },
  {
   "cell_type": "code",
   "execution_count": 50,
   "metadata": {},
   "outputs": [],
   "source": [
    "import sys\n",
    "sys.path.append('../src')\n",
    "from data.audio_dataset import AudioSpectrogramDataset\n",
    "from models.PGAN_model.PGenerator import PGenerator\n",
    "from models.PGAN_model.PDiscriminator import PDiscriminator\n",
    "from models.WGAN_model.config import *\n",
    "\n",
    "import torch\n",
    "from torch.utils.data import DataLoader"
   ]
  },
  {
   "cell_type": "code",
   "execution_count": 30,
   "metadata": {},
   "outputs": [],
   "source": [
    "# # hyperparameters\n",
    "# z_dim = 100\n",
    "batch_size = 32\n",
    "num_epochs = 50\n",
    "latent_dim = 100\n",
    "# learning_rate = 0.0002\n",
    "# beta1 = 0.5\n",
    "\n",
    "# base_directory = \"../data/raw/NSynth/audio\"\n",
    "base_directory = \"../data/raw/Single-bass\"\n",
    "\n",
    "dataset = AudioSpectrogramDataset(base_directory=base_directory, spectro_type='mel')\n",
    "dataloader = DataLoader(dataset, batch_size=batch_size, shuffle=True)"
   ]
  },
  {
   "cell_type": "code",
   "execution_count": 14,
   "metadata": {},
   "outputs": [
    {
     "name": "stdout",
     "output_type": "stream",
     "text": [
      "torch.Size([1, 1, 1024, 160])\n"
     ]
    },
    {
     "name": "stderr",
     "output_type": "stream",
     "text": [
      "C:\\Users\\micha\\AppData\\Local\\Packages\\PythonSoftwareFoundation.Python.3.10_qbz5n2kfra8p0\\LocalCache\\local-packages\\Python310\\site-packages\\librosa\\feature\\spectral.py:2143: UserWarning: Empty filters detected in mel frequency basis. Some channels will produce empty responses. Try increasing your sampling rate (and fmax) or reducing n_mels.\n",
      "  mel_basis = filters.mel(sr=sr, n_fft=n_fft, **kwargs)\n"
     ]
    }
   ],
   "source": [
    "first_batch = next(iter(dataloader))\n",
    "print(first_batch.size())"
   ]
  },
  {
   "cell_type": "code",
   "execution_count": 51,
   "metadata": {},
   "outputs": [
    {
     "name": "stdout",
     "output_type": "stream",
     "text": [
      "torch.Size([64, 1, 8, 5])\n"
     ]
    }
   ],
   "source": [
    "temp = torch.rand((64, 1, 8, 5))\n",
    "# temp = torch.unsqueeze(temp, dim=0)\n",
    "print(temp.shape)"
   ]
  },
  {
   "cell_type": "code",
   "execution_count": 57,
   "metadata": {},
   "outputs": [],
   "source": [
    "import torch.nn.functional as F\n",
    "goal_size = [64, 1, 32, 5]\n",
    "goal = (32, 5)"
   ]
  },
  {
   "cell_type": "code",
   "execution_count": 8,
   "metadata": {},
   "outputs": [
    {
     "data": {
      "text/plain": [
       "[128, 80]"
      ]
     },
     "execution_count": 8,
     "metadata": {},
     "output_type": "execute_result"
    }
   ],
   "source": [
    "goal_size[-2:]"
   ]
  },
  {
   "cell_type": "code",
   "execution_count": 58,
   "metadata": {},
   "outputs": [],
   "source": [
    "low_res_real = F.adaptive_avg_pool2d(temp, output_size=goal)\n",
    "low_res_real2 = F.interpolate(temp, size=goal_size[-2:], mode='nearest')"
   ]
  },
  {
   "cell_type": "code",
   "execution_count": 59,
   "metadata": {},
   "outputs": [
    {
     "data": {
      "text/plain": [
       "device(type='cuda', index=0)"
      ]
     },
     "execution_count": 59,
     "metadata": {},
     "output_type": "execute_result"
    }
   ],
   "source": [
    "if torch.cuda.is_available():\n",
    "    device = torch.device(\"cuda:0\")\n",
    "    n_devices = torch.cuda.device_count()\n",
    "else:\n",
    "    device = torch.device(\"cpu\")\n",
    "    n_devices = 1    \n",
    "device"
   ]
  },
  {
   "cell_type": "code",
   "execution_count": 60,
   "metadata": {},
   "outputs": [
    {
     "name": "stdout",
     "output_type": "stream",
     "text": [
      "low_res_real: torch.Size([64, 1, 32, 5])\n",
      "low_res_real2: torch.Size([64, 1, 32, 5])\n"
     ]
    }
   ],
   "source": [
    "print(f'low_res_real: {low_res_real.shape}')\n",
    "print(f'low_res_real2: {low_res_real2.shape}')"
   ]
  },
  {
   "cell_type": "code",
   "execution_count": 73,
   "metadata": {},
   "outputs": [
    {
     "name": "stdout",
     "output_type": "stream",
     "text": [
      "torch.Size([64, 1, 128, 20])\n"
     ]
    }
   ],
   "source": [
    "temp = torch.rand((64, 1, 128, 20))\n",
    "# temp = torch.unsqueeze(temp, dim=0)\n",
    "print(temp.shape)"
   ]
  },
  {
   "cell_type": "code",
   "execution_count": 75,
   "metadata": {},
   "outputs": [
    {
     "name": "stdout",
     "output_type": "stream",
     "text": [
      "input: torch.Size([64, 1, 128, 20])\n",
      "before final block: torch.Size([64, 256, 32, 5])\n",
      "after final block: torch.Size([64, 1, 1, 1])\n",
      "torch.Size([64, 1, 1, 1])\n"
     ]
    }
   ],
   "source": [
    "discriminator = PDiscriminator(\n",
    "    init_resolution_size=init_resolution_size,\n",
    "    mini_batch_normalization=False).to(device)\n",
    "low_res_real = temp.to(device)\n",
    "discriminator.add_next_block(new_depth=256)\n",
    "discriminator.add_next_block(new_depth=128)\n",
    "# discriminator.add_next_block(new_depth=64)\n",
    "# discriminator.add_next_block(new_depth=32)\n",
    "# discriminator.add_next_block(new_depth=16)\n",
    "# discriminator.set_alpha(0.2)\n",
    "discriminator.set_alpha(1.0)\n",
    "# print(first_batch_low_resolution.device)\n",
    "dummy_output = discriminator(low_res_real)\n",
    "print(dummy_output.shape)\n",
    "# print(dummy_output)"
   ]
  },
  {
   "cell_type": "code",
   "execution_count": 45,
   "metadata": {},
   "outputs": [
    {
     "name": "stdout",
     "output_type": "stream",
     "text": [
      "input_size: torch.Size([64, 256, 1, 1])\n",
      "after base block size: torch.Size([64, 256, 32, 5])\n",
      "shape before upsampling: torch.Size([64, 256, 32, 5])\n",
      "input of upsampling: torch.Size([64, 256, 32, 5])\n",
      "shape after upsampling: torch.Size([64, 256, 64, 10])\n",
      "after block: torch.Size([64, 256, 64, 10])\n",
      "shape before upsampling: torch.Size([64, 256, 64, 10])\n",
      "input of upsampling: torch.Size([64, 256, 64, 10])\n",
      "shape after upsampling: torch.Size([64, 256, 128, 20])\n",
      "after block: torch.Size([64, 128, 128, 20])\n",
      "shape before upsampling: torch.Size([64, 128, 128, 20])\n",
      "input of upsampling: torch.Size([64, 128, 128, 20])\n",
      "shape after upsampling: torch.Size([64, 128, 256, 40])\n",
      "after block: torch.Size([64, 64, 256, 40])\n",
      "torch.Size([64, 1, 256, 40])\n"
     ]
    }
   ],
   "source": [
    "p_latent_dim = 256\n",
    "dummy_latent_vector = torch.randn((64, p_latent_dim, 1, 1)).to(device)\n",
    "generator = PGenerator(\n",
    "    latent_dim=p_latent_dim,\n",
    "    init_resolution_size=init_resolution_size,\n",
    "    output_depth=output_dim,\n",
    "    LReLU_negative_slope=negative_slope,\n",
    "    normalization=normalization\n",
    ").to(device)\n",
    "generator.add_next_block(new_depth=256)\n",
    "generator.add_next_block(new_depth=128)\n",
    "generator.add_next_block(new_depth=64)\n",
    "# generator.add_next_block(new_depth=32)\n",
    "# generator.add_next_block(new_depth=16)\n",
    "generator.set_alpha(1.0)\n",
    "# generator.set_alpha(0.2)\n",
    "dummy_output = generator(dummy_latent_vector)\n",
    "print(dummy_output.shape)"
   ]
  },
  {
   "cell_type": "code",
   "execution_count": 36,
   "metadata": {},
   "outputs": [
    {
     "name": "stdout",
     "output_type": "stream",
     "text": [
      "PGenerator2(\n",
      "  (blocks): ModuleList(\n",
      "    (0): ModuleList(\n",
      "      (0): Sequential(\n",
      "        (0): Upsample(scale_factor=2.0, mode=nearest)\n",
      "        (1): ConvTranspose2d(256, 256, kernel_size=(3, 3), stride=(1, 1), padding=(1, 1))\n",
      "        (2): LeakyReLU(negative_slope=0.2)\n",
      "        (3): ConvTranspose2d(256, 256, kernel_size=(3, 3), stride=(1, 1), padding=(1, 1))\n",
      "        (4): LeakyReLU(negative_slope=0.2)\n",
      "      )\n",
      "      (1): Sequential(\n",
      "        (0): Conv2d(256, 1, kernel_size=(1, 1), stride=(1, 1))\n",
      "        (1): Upsample(scale_factor=2.0, mode=nearest)\n",
      "      )\n",
      "    )\n",
      "  )\n",
      "  (normalizationLayer): NormalizationLayer()\n",
      "  (l1): Sequential(\n",
      "    (0): Linear(in_features=100, out_features=10240, bias=True)\n",
      "    (1): LeakyReLU(negative_slope=0.2)\n",
      "  )\n",
      "  (base_block): ModuleList(\n",
      "    (0): Sequential(\n",
      "      (0): ConvTranspose2d(256, 256, kernel_size=(3, 3), stride=(1, 1), padding=(1, 1))\n",
      "      (1): LeakyReLU(negative_slope=0.2)\n",
      "    )\n",
      "    (1): Sequential(\n",
      "      (0): Conv2d(256, 1, kernel_size=(1, 1), stride=(1, 1))\n",
      "    )\n",
      "  )\n",
      ")\n"
     ]
    }
   ],
   "source": [
    "print(generator)"
   ]
  },
  {
   "cell_type": "code",
   "execution_count": 47,
   "metadata": {},
   "outputs": [
    {
     "name": "stdout",
     "output_type": "stream",
     "text": [
      "torch.Size([64, 256, 1, 1])\n",
      "tensor([[[[ 0.7765]],\n",
      "\n",
      "         [[ 1.1099]],\n",
      "\n",
      "         [[-0.6654]],\n",
      "\n",
      "         ...,\n",
      "\n",
      "         [[-0.9404]],\n",
      "\n",
      "         [[ 0.5894]],\n",
      "\n",
      "         [[ 0.4751]]],\n",
      "\n",
      "\n",
      "        [[[ 0.1632]],\n",
      "\n",
      "         [[-1.3964]],\n",
      "\n",
      "         [[-0.6469]],\n",
      "\n",
      "         ...,\n",
      "\n",
      "         [[-0.1766]],\n",
      "\n",
      "         [[-1.4044]],\n",
      "\n",
      "         [[ 1.4762]]],\n",
      "\n",
      "\n",
      "        [[[ 1.0196]],\n",
      "\n",
      "         [[ 0.5363]],\n",
      "\n",
      "         [[ 1.5771]],\n",
      "\n",
      "         ...,\n",
      "\n",
      "         [[-1.1787]],\n",
      "\n",
      "         [[-0.2667]],\n",
      "\n",
      "         [[-0.3476]]],\n",
      "\n",
      "\n",
      "        ...,\n",
      "\n",
      "\n",
      "        [[[ 0.0200]],\n",
      "\n",
      "         [[ 0.2189]],\n",
      "\n",
      "         [[ 0.2410]],\n",
      "\n",
      "         ...,\n",
      "\n",
      "         [[-0.1960]],\n",
      "\n",
      "         [[ 0.3864]],\n",
      "\n",
      "         [[ 1.6617]]],\n",
      "\n",
      "\n",
      "        [[[-1.5526]],\n",
      "\n",
      "         [[-0.8472]],\n",
      "\n",
      "         [[ 0.8952]],\n",
      "\n",
      "         ...,\n",
      "\n",
      "         [[-1.3719]],\n",
      "\n",
      "         [[ 0.7228]],\n",
      "\n",
      "         [[ 0.7435]]],\n",
      "\n",
      "\n",
      "        [[[-0.9797]],\n",
      "\n",
      "         [[-0.0460]],\n",
      "\n",
      "         [[-1.1323]],\n",
      "\n",
      "         ...,\n",
      "\n",
      "         [[ 0.7799]],\n",
      "\n",
      "         [[ 0.9960]],\n",
      "\n",
      "         [[ 0.6180]]]], device='cuda:0')\n"
     ]
    }
   ],
   "source": [
    "def create_noise(batch_size):\n",
    "    noise = torch.randn(batch_size, 256, 1, 1).to(device)\n",
    "    return noise\n",
    "\n",
    "noise = create_noise(64)\n",
    "print(noise.shape)\n",
    "print(noise)\n"
   ]
  }
 ],
 "metadata": {
  "kernelspec": {
   "display_name": "Python 3",
   "language": "python",
   "name": "python3"
  },
  "language_info": {
   "codemirror_mode": {
    "name": "ipython",
    "version": 3
   },
   "file_extension": ".py",
   "mimetype": "text/x-python",
   "name": "python",
   "nbconvert_exporter": "python",
   "pygments_lexer": "ipython3",
   "version": "3.10.11"
  },
  "orig_nbformat": 4
 },
 "nbformat": 4,
 "nbformat_minor": 2
}
