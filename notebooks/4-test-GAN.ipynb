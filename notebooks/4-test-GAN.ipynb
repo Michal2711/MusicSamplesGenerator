{
 "cells": [
  {
   "cell_type": "code",
   "execution_count": 4,
   "metadata": {},
   "outputs": [
    {
     "name": "stdout",
     "output_type": "stream",
     "text": [
      "The autoreload extension is already loaded. To reload it, use:\n",
      "  %reload_ext autoreload\n"
     ]
    }
   ],
   "source": [
    "%load_ext autoreload\n",
    "%autoreload 2"
   ]
  },
  {
   "cell_type": "code",
   "execution_count": 5,
   "metadata": {},
   "outputs": [],
   "source": [
    "import sys\n",
    "sys.path.append('../src')\n",
    "from data.audio_dataset import AudioSpectrogramDataset\n",
    "from models.GAN import GAN\n",
    "\n",
    "import torch\n",
    "import librosa\n",
    "import soundfile as sf\n",
    "from torch.utils.data import DataLoader"
   ]
  },
  {
   "cell_type": "code",
   "execution_count": 6,
   "metadata": {},
   "outputs": [],
   "source": [
    "# # hyperparameters\n",
    "# z_dim = 100\n",
    "batch_size = 32\n",
    "# num_epochs = 100\n",
    "# learning_rate = 0.0002\n",
    "# beta1 = 0.5\n",
    "\n",
    "# base_directory = \"../data/raw/NSynth/audio\"\n",
    "base_directory = \"../data/raw/Bass\"\n",
    "\n",
    "dataset = AudioSpectrogramDataset(base_directory=base_directory, spectro_type='mel')\n",
    "dataloader = DataLoader(dataset, batch_size=batch_size, shuffle=True)"
   ]
  },
  {
   "cell_type": "code",
   "execution_count": 7,
   "metadata": {},
   "outputs": [],
   "source": [
    "data_shape = dataset.get_data_size()\n",
    "height, width = data_shape[1], data_shape[2]"
   ]
  },
  {
   "cell_type": "code",
   "execution_count": 8,
   "metadata": {},
   "outputs": [
    {
     "name": "stdout",
     "output_type": "stream",
     "text": [
      "[Epoch 0/1] [Batch 0] [D loss: 0.2493998408317566] [G loss: 0.24918651580810547]\n",
      "[Epoch 0/1] [Batch 1] [D loss: 0.23651286959648132] [G loss: 0.24949684739112854]\n",
      "[Epoch 0/1] [Batch 2] [D loss: 0.23432797193527222] [G loss: 0.24987109005451202]\n",
      "[Epoch 0/1] [Batch 3] [D loss: 0.213868647813797] [G loss: 0.2503052353858948]\n",
      "[Epoch 0/1] [Batch 4] [D loss: 0.20401465892791748] [G loss: 0.2507786750793457]\n",
      "[Epoch 0/1] [Batch 5] [D loss: 0.19374632835388184] [G loss: 0.25162285566329956]\n",
      "[Epoch 0/1] [Batch 6] [D loss: 0.199236661195755] [G loss: 0.2526068389415741]\n",
      "[Epoch 0/1] [Batch 7] [D loss: 0.19072884321212769] [G loss: 0.2543337643146515]\n",
      "[Epoch 0/1] [Batch 8] [D loss: 0.19822654128074646] [G loss: 0.2557256817817688]\n",
      "[Epoch 0/1] [Batch 9] [D loss: 0.1692313700914383] [G loss: 0.2575131952762604]\n",
      "[Epoch 0/1] [Batch 10] [D loss: 0.16361647844314575] [G loss: 0.25981414318084717]\n",
      "[Epoch 0/1] [Batch 11] [D loss: 0.17606239020824432] [G loss: 0.262114018201828]\n",
      "[Epoch 0/1] [Batch 12] [D loss: 0.16390712559223175] [G loss: 0.26513350009918213]\n",
      "[Epoch 0/1] [Batch 13] [D loss: 0.15291163325309753] [G loss: 0.2673052251338959]\n",
      "[Epoch 0/1] [Batch 14] [D loss: 0.1507682204246521] [G loss: 0.2712722718715668]\n",
      "[Epoch 0/1] [Batch 15] [D loss: 0.1351437121629715] [G loss: 0.2740863561630249]\n",
      "[Epoch 0/1] [Batch 16] [D loss: 0.1317809820175171] [G loss: 0.277618944644928]\n",
      "[Epoch 0/1] [Batch 17] [D loss: 0.13305696845054626] [G loss: 0.28163403272628784]\n",
      "[Epoch 0/1] [Batch 18] [D loss: 0.13599863648414612] [G loss: 0.2856603264808655]\n",
      "[Epoch 0/1] [Batch 19] [D loss: 0.11512639373540878] [G loss: 0.2884621024131775]\n",
      "[Epoch 0/1] [Batch 20] [D loss: 0.13334494829177856] [G loss: 0.29113516211509705]\n",
      "[Epoch 0/1] [Batch 21] [D loss: 0.12544631958007812] [G loss: 0.2939488887786865]\n",
      "[Epoch 0/1] [Batch 22] [D loss: 0.11855693906545639] [G loss: 0.29326367378234863]\n",
      "[Epoch 0/1] [Batch 23] [D loss: 0.11908701807260513] [G loss: 0.29241180419921875]\n",
      "[Epoch 0/1] [Batch 24] [D loss: 0.12387219071388245] [G loss: 0.2940393090248108]\n",
      "[Epoch 0/1] [Batch 25] [D loss: 0.11712436378002167] [G loss: 0.2988496422767639]\n",
      "[Epoch 0/1] [Batch 26] [D loss: 0.11002650111913681] [G loss: 0.29559099674224854]\n"
     ]
    }
   ],
   "source": [
    "MusicGAN = GAN(height=height, width=width, latent_dim=100, loss='MSE')\n",
    "\n",
    "MusicGAN.train(dataloader=dataloader)"
   ]
  },
  {
   "cell_type": "code",
   "execution_count": null,
   "metadata": {},
   "outputs": [],
   "source": [
    "MusicGAN.generator.eval()"
   ]
  },
  {
   "cell_type": "code",
   "execution_count": 7,
   "metadata": {},
   "outputs": [],
   "source": [
    "z = torch.randn(1, MusicGAN.latent_dim).to(MusicGAN.device)\n",
    "generated_spectrogram = MusicGAN.generator(z)"
   ]
  },
  {
   "cell_type": "code",
   "execution_count": 8,
   "metadata": {},
   "outputs": [],
   "source": [
    "spectrogram = generated_spectrogram.cpu().detach().numpy()\n",
    "spectrogram = spectrogram.squeeze()"
   ]
  },
  {
   "cell_type": "code",
   "execution_count": 9,
   "metadata": {},
   "outputs": [],
   "source": [
    "audio = librosa.feature.inverse.mel_to_audio(spectrogram)\n",
    "\n",
    "path = '../models/generated_samples/'\n",
    "file_name = 'generated_audio.wav'\n",
    "\n",
    "sf.write(path + file_name, audio, 22050)"
   ]
  }
 ],
 "metadata": {
  "kernelspec": {
   "display_name": "Python 3",
   "language": "python",
   "name": "python3"
  },
  "language_info": {
   "codemirror_mode": {
    "name": "ipython",
    "version": 3
   },
   "file_extension": ".py",
   "mimetype": "text/x-python",
   "name": "python",
   "nbconvert_exporter": "python",
   "pygments_lexer": "ipython3",
   "version": "3.10.11"
  },
  "orig_nbformat": 4
 },
 "nbformat": 4,
 "nbformat_minor": 2
}
