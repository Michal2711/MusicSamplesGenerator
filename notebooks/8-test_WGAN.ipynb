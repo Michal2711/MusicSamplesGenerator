{
 "cells": [
  {
   "cell_type": "code",
   "execution_count": 1,
   "metadata": {},
   "outputs": [],
   "source": [
    "%load_ext autoreload\n",
    "%autoreload 2"
   ]
  },
  {
   "cell_type": "code",
   "execution_count": 2,
   "metadata": {},
   "outputs": [],
   "source": [
    "import matplotlib.pyplot as plt\n",
    "import seaborn as sns\n",
    "from itertools import cycle\n",
    "\n",
    "sns.set_theme(style=\"white\", palette=None)\n",
    "color_pal = plt.rcParams[\"axes.prop_cycle\"].by_key()[\"color\"]\n",
    "color_cycle = cycle(plt.rcParams[\"axes.prop_cycle\"].by_key()[\"color\"])"
   ]
  },
  {
   "cell_type": "code",
   "execution_count": 3,
   "metadata": {},
   "outputs": [
    {
     "name": "stderr",
     "output_type": "stream",
     "text": [
      "C:\\Users\\micha\\AppData\\Local\\Packages\\PythonSoftwareFoundation.Python.3.10_qbz5n2kfra8p0\\LocalCache\\local-packages\\Python310\\site-packages\\tqdm\\auto.py:21: TqdmWarning: IProgress not found. Please update jupyter and ipywidgets. See https://ipywidgets.readthedocs.io/en/stable/user_install.html\n",
      "  from .autonotebook import tqdm as notebook_tqdm\n"
     ]
    },
    {
     "ename": "ImportError",
     "evalue": "cannot import name 'WGAN' from 'models.WGAN_model.WGAN' (c:\\0. Studia\\0. Praca inzynierska\\Music_Samples_Generator\\notebooks\\../src\\models\\WGAN_model\\WGAN.py)",
     "output_type": "error",
     "traceback": [
      "\u001b[1;31m---------------------------------------------------------------------------\u001b[0m",
      "\u001b[1;31mImportError\u001b[0m                               Traceback (most recent call last)",
      "\u001b[1;32mc:\\0. Studia\\0. Praca inzynierska\\Music_Samples_Generator\\notebooks\\8-test_WGAN.ipynb Cell 3\u001b[0m line \u001b[0;36m5\n\u001b[0;32m      <a href='vscode-notebook-cell:/c%3A/0.%20Studia/0.%20Praca%20inzynierska/Music_Samples_Generator/notebooks/8-test_WGAN.ipynb#W2sZmlsZQ%3D%3D?line=2'>3</a>\u001b[0m \u001b[39mfrom\u001b[39;00m \u001b[39mdata\u001b[39;00m\u001b[39m.\u001b[39;00m\u001b[39maudio_dataset\u001b[39;00m \u001b[39mimport\u001b[39;00m AudioSpectrogramDataset\n\u001b[0;32m      <a href='vscode-notebook-cell:/c%3A/0.%20Studia/0.%20Praca%20inzynierska/Music_Samples_Generator/notebooks/8-test_WGAN.ipynb#W2sZmlsZQ%3D%3D?line=3'>4</a>\u001b[0m \u001b[39mfrom\u001b[39;00m \u001b[39mmodels\u001b[39;00m\u001b[39m.\u001b[39;00m\u001b[39mPGAN_model\u001b[39;00m\u001b[39m.\u001b[39;00m\u001b[39mPGAN\u001b[39;00m \u001b[39mimport\u001b[39;00m PGAN\n\u001b[1;32m----> <a href='vscode-notebook-cell:/c%3A/0.%20Studia/0.%20Praca%20inzynierska/Music_Samples_Generator/notebooks/8-test_WGAN.ipynb#W2sZmlsZQ%3D%3D?line=4'>5</a>\u001b[0m \u001b[39mfrom\u001b[39;00m \u001b[39mmodels\u001b[39;00m\u001b[39m.\u001b[39;00m\u001b[39mWGAN_model\u001b[39;00m\u001b[39m.\u001b[39;00m\u001b[39mWGAN\u001b[39;00m \u001b[39mimport\u001b[39;00m WGAN\n\u001b[0;32m      <a href='vscode-notebook-cell:/c%3A/0.%20Studia/0.%20Praca%20inzynierska/Music_Samples_Generator/notebooks/8-test_WGAN.ipynb#W2sZmlsZQ%3D%3D?line=6'>7</a>\u001b[0m \u001b[39mimport\u001b[39;00m \u001b[39mtorch\u001b[39;00m\n\u001b[0;32m      <a href='vscode-notebook-cell:/c%3A/0.%20Studia/0.%20Praca%20inzynierska/Music_Samples_Generator/notebooks/8-test_WGAN.ipynb#W2sZmlsZQ%3D%3D?line=7'>8</a>\u001b[0m \u001b[39mimport\u001b[39;00m \u001b[39mpytorch_lightning\u001b[39;00m \u001b[39mas\u001b[39;00m \u001b[39mpl\u001b[39;00m\n",
      "\u001b[1;31mImportError\u001b[0m: cannot import name 'WGAN' from 'models.WGAN_model.WGAN' (c:\\0. Studia\\0. Praca inzynierska\\Music_Samples_Generator\\notebooks\\../src\\models\\WGAN_model\\WGAN.py)"
     ]
    }
   ],
   "source": [
    "import sys\n",
    "sys.path.append('../src')\n",
    "from data.audio_dataset import AudioSpectrogramDataset\n",
    "from models.PGAN_model.PGAN import PGAN\n",
    "from models.WGAN_model.WGAN import WGAN\n",
    "\n",
    "import torch\n",
    "import pytorch_lightning as pl\n",
    "import librosa\n",
    "import soundfile as sf\n",
    "from torch.utils.data import DataLoader"
   ]
  },
  {
   "cell_type": "code",
   "execution_count": null,
   "metadata": {},
   "outputs": [],
   "source": [
    "# # hyperparameters\n",
    "# z_dim = 100\n",
    "latent_dim = 100\n",
    "batch_size = 64\n",
    "depths = [256, 256, 128, 64, 32, 16]\n",
    "num_epochs = 60\n",
    "num_epochs_per_resolution = int(num_epochs / len(depths))\n",
    "learning_rate = 5e-5\n",
    "n_critic = 5\n",
    "c = 0.01\n",
    "# beta1 = 0.5\n",
    "\n",
    "# base_directory = \"../data/raw/nsynth-train/audio\"\n",
    "base_directory = \"../data/raw/Bass\"\n",
    "\n",
    "dataset = AudioSpectrogramDataset(base_directory=base_directory, spectro_type='mel')\n",
    "dataloader = DataLoader(dataset, batch_size=batch_size, shuffle=True)"
   ]
  },
  {
   "cell_type": "code",
   "execution_count": null,
   "metadata": {},
   "outputs": [],
   "source": [
    "Music_WPGAN = WGAN"
   ]
  }
 ],
 "metadata": {
  "kernelspec": {
   "display_name": "Python 3",
   "language": "python",
   "name": "python3"
  },
  "language_info": {
   "codemirror_mode": {
    "name": "ipython",
    "version": 3
   },
   "file_extension": ".py",
   "mimetype": "text/x-python",
   "name": "python",
   "nbconvert_exporter": "python",
   "pygments_lexer": "ipython3",
   "version": "3.10.11"
  }
 },
 "nbformat": 4,
 "nbformat_minor": 2
}
